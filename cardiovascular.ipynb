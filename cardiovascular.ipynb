{
  "nbformat": 4,
  "nbformat_minor": 0,
  "metadata": {
    "colab": {
      "name": "cardiovascular.ipynb",
      "provenance": [],
      "authorship_tag": "ABX9TyPpQAmvhbWXqzDw7vyb5ObG",
      "include_colab_link": true
    },
    "kernelspec": {
      "name": "python3",
      "display_name": "Python 3"
    },
    "language_info": {
      "name": "python"
    }
  },
  "cells": [
    {
      "cell_type": "markdown",
      "metadata": {
        "id": "view-in-github",
        "colab_type": "text"
      },
      "source": [
        "<a href=\"https://colab.research.google.com/github/LalithaEvani/Madhumeha/blob/main/cardiovascular.ipynb\" target=\"_parent\"><img src=\"https://colab.research.google.com/assets/colab-badge.svg\" alt=\"Open In Colab\"/></a>"
      ]
    },
    {
      "cell_type": "markdown",
      "source": [
        "Dataset used\n",
        "From January 2017 till June 2019, 1,357 subjects with T2DM were recruited in the study. Patients with T2DM were recruited from the Inpatient Department of Endocrinology in Lu He hospital"
      ],
      "metadata": {
        "id": "Jwc_rTZY7bsX"
      }
    },
    {
      "cell_type": "markdown",
      "source": [
        "https://www.nature.com/articles/s41598-020-71321-2"
      ],
      "metadata": {
        "id": "xISPMfAO4iNx"
      }
    },
    {
      "cell_type": "markdown",
      "source": [
        "AI model to determine the risk of T2DM patients to develop to CHD(Coronary Heart Disease), which has potential value in providing early warning personalized guidance of CHD risk for both T2DM patients and clinicians.\n",
        "\n",
        "CHD is a disease of the less blood supplying to heart muscle vessels11 manifested as hyperlipidaemia, myocardial infarction, and angina pectoris\n",
        "\n",
        "It is known that individuals’ basic information like gender and age, and blood test indexes such as blood pressure, total cholesterol (TC), low-density lipoprotein cholesterol (LDL-C), high-density lipoprotein cholesterol (HDL-C) as well as smoking behaviour, diabetes status can be considered as risk factors of causing CHD"
      ],
      "metadata": {
        "id": "tYc1JtoK4c8g"
      }
    },
    {
      "cell_type": "markdown",
      "source": [
        "AI (random forest) based model to predict the risk of developing CHD for individuals with T2DM"
      ],
      "metadata": {
        "id": "-W_NVV4L5s4F"
      }
    },
    {
      "cell_type": "markdown",
      "source": [
        "the predictive model achieved an AUC of 0.77 (fivefold cross-validation) in the training dataset and an AUC of 0.80 in the testing dataset, respectively. Moreover, the model achieved an AUC of 0.71 on a totally independent dataset including 1,253 newly recruited T2DM patients."
      ],
      "metadata": {
        "id": "tjW-bkLO5t-b"
      }
    },
    {
      "cell_type": "markdown",
      "source": [
        "table containing range parameters for data considered \n",
        "\n",
        "https://www.nature.com/articles/s41598-020-71321-2/tables/1 "
      ],
      "metadata": {
        "id": "WwcyavAy6S9F"
      }
    },
    {
      "cell_type": "markdown",
      "source": [
        "we use the information entropy function and Gini impurity function to check the information hidden in each feature. One feature will get a higher score if this series of data contain more information for classification and vice versa. The information entropy function-based feature selection method is implemented by using random forest model with 500 decision trees in sci-kit-learn 0.2228 in Python 3."
      ],
      "metadata": {
        "id": "5l0D7vyx62Re"
      }
    },
    {
      "cell_type": "markdown",
      "source": [
        "Webserver based prediction \n",
        "\n",
        "https://www.cuilab.cn/dchd/#single"
      ],
      "metadata": {
        "id": "VTwjDLI77HO-"
      }
    },
    {
      "cell_type": "code",
      "source": [
        "# importing libraries\n",
        "import numpy as np\n",
        "import pandas as pd\n",
        "import math\n",
        "import random\n",
        "import matplotlib.pyplot as plt"
      ],
      "metadata": {
        "id": "BSeoMGVefZvT"
      },
      "execution_count": 1,
      "outputs": []
    },
    {
      "cell_type": "code",
      "source": [
        "gender1= np.random.choice([0,1], size=7610, p=[0.482,0.518]) #0 for female \n",
        "gender2 = np.random.choice([0,1], size=2390, p=[0.470,0.530]) \n",
        "gender = np.concatenate((gender1,gender2))\n",
        "gender"
      ],
      "metadata": {
        "colab": {
          "base_uri": "https://localhost:8080/"
        },
        "id": "igA1PcmxBMDI",
        "outputId": "02f7ec91-4fda-4a61-f46c-e56700741ecb"
      },
      "execution_count": 2,
      "outputs": [
        {
          "output_type": "execute_result",
          "data": {
            "text/plain": [
              "array([0, 1, 1, ..., 1, 0, 0])"
            ]
          },
          "metadata": {},
          "execution_count": 2
        }
      ]
    },
    {
      "cell_type": "code",
      "source": [
        "smokers1= np.random.choice([1,0], size=7610, p=[0.381,0.619])\n",
        "smokers2= np.random.choice([1,0], size=2390, p=[0.424,0.576])\n",
        "smokers = np.concatenate((smokers1,smokers2))\n",
        "print(smokers)\n"
      ],
      "metadata": {
        "colab": {
          "base_uri": "https://localhost:8080/"
        },
        "id": "vCw904dPfXhN",
        "outputId": "07e83da5-8c02-4c46-aea3-da28c3f101e3"
      },
      "execution_count": 3,
      "outputs": [
        {
          "output_type": "stream",
          "name": "stdout",
          "text": [
            "[1 1 1 ... 0 1 0]\n"
          ]
        }
      ]
    },
    {
      "cell_type": "code",
      "source": [
        "drinking_alcohol1= np.random.choice([1,0], size=7610, p=[0.318,0.682])\n",
        "drinking_alcohol2= np.random.choice([1,0], size=2390, p=[0.319,0.681])\n",
        "drinking_alcohol = np.concatenate((drinking_alcohol1,drinking_alcohol2))\n",
        "print(drinking_alcohol)"
      ],
      "metadata": {
        "colab": {
          "base_uri": "https://localhost:8080/"
        },
        "id": "skyCBmzUfgDt",
        "outputId": "97a6d1b4-e4dc-4ff1-d837-929cfc9d89d9"
      },
      "execution_count": 4,
      "outputs": [
        {
          "output_type": "stream",
          "name": "stdout",
          "text": [
            "[0 0 0 ... 0 0 1]\n"
          ]
        }
      ]
    },
    {
      "cell_type": "code",
      "source": [
        "age1 = np.random.uniform(39.77,68.37,7610)\n",
        "age2 = np.random.uniform(55.16,74.66,2390)\n",
        "age = np.concatenate((age1,age2))\n",
        "age"
      ],
      "metadata": {
        "colab": {
          "base_uri": "https://localhost:8080/"
        },
        "id": "SDV76o7dfrJ2",
        "outputId": "309ae92a-a509-44b6-e337-96324b77df36"
      },
      "execution_count": 5,
      "outputs": [
        {
          "output_type": "execute_result",
          "data": {
            "text/plain": [
              "array([48.65409493, 55.32903093, 40.46534301, ..., 72.67267925,\n",
              "       69.25982765, 59.22768047])"
            ]
          },
          "metadata": {},
          "execution_count": 5
        }
      ]
    },
    {
      "cell_type": "code",
      "source": [
        "course_of_hypertension1 = np.random.uniform(4.92,5.98,7610)\n",
        "course_of_hypertension2 = np.random.uniform(9.10,11.55,2390)\n",
        "course_of_hypertension = np.concatenate((course_of_hypertension1, course_of_hypertension2))\n",
        "course_of_hypertension"
      ],
      "metadata": {
        "colab": {
          "base_uri": "https://localhost:8080/"
        },
        "id": "i3Bu3ryViEyE",
        "outputId": "912be77e-04ee-4f83-da24-cded2382a904"
      },
      "execution_count": 6,
      "outputs": [
        {
          "output_type": "execute_result",
          "data": {
            "text/plain": [
              "array([ 5.03003977,  4.97103505,  5.84149114, ...,  9.31662244,\n",
              "       10.29675842,  9.38969826])"
            ]
          },
          "metadata": {},
          "execution_count": 6
        }
      ]
    },
    {
      "cell_type": "code",
      "source": [
        "course_of_diabetes1 = np.random.uniform(6.80,7.73,7610)\n",
        "course_of_diabetes2= np.random.uniform(10.38,12.36,2390)\n",
        "course_of_diabetes = np.concatenate((course_of_diabetes1,course_of_diabetes2))\n",
        "course_of_diabetes"
      ],
      "metadata": {
        "colab": {
          "base_uri": "https://localhost:8080/"
        },
        "id": "oSa8BRviiT8n",
        "outputId": "022a0e48-7af3-48da-9b32-fb045f43b66a"
      },
      "execution_count": 7,
      "outputs": [
        {
          "output_type": "execute_result",
          "data": {
            "text/plain": [
              "array([ 7.01627555,  7.68631188,  7.29596759, ..., 10.55542634,\n",
              "       10.8526894 , 10.79582999])"
            ]
          },
          "metadata": {},
          "execution_count": 7
        }
      ]
    },
    {
      "cell_type": "code",
      "source": [
        "systolic_pressure1 = np.random.uniform(110.26,147.74,7610)\n",
        "systolic_pressure2= np.random.uniform(107.74,149.62,2390)\n",
        "systolic_pressure = np.concatenate((systolic_pressure1,systolic_pressure2))\n",
        "systolic_pressure"
      ],
      "metadata": {
        "colab": {
          "base_uri": "https://localhost:8080/"
        },
        "id": "LQx8bkL9ii2o",
        "outputId": "2daff7ab-63b3-431a-eac5-089c3c4e4138"
      },
      "execution_count": 8,
      "outputs": [
        {
          "output_type": "execute_result",
          "data": {
            "text/plain": [
              "array([117.27626877, 140.99115342, 113.76417658, ..., 111.03501437,\n",
              "       125.32371643, 125.25477433])"
            ]
          },
          "metadata": {},
          "execution_count": 8
        }
      ]
    },
    {
      "cell_type": "code",
      "source": [
        "diastolic_pressure1 = np.random.uniform(65.5, 88.72,7610)\n",
        "diastolic_pressure2 = np.random.uniform(60.1,85.5,2390)\n",
        "diastolic_pressure = np.concatenate((diastolic_pressure1,diastolic_pressure2))\n",
        "diastolic_pressure"
      ],
      "metadata": {
        "colab": {
          "base_uri": "https://localhost:8080/"
        },
        "id": "fJNiq-_3iwYv",
        "outputId": "496f65d0-13de-4351-f400-ba6705a74dd1"
      },
      "execution_count": 9,
      "outputs": [
        {
          "output_type": "execute_result",
          "data": {
            "text/plain": [
              "array([80.76391602, 67.8714535 , 69.02254392, ..., 73.23630918,\n",
              "       76.36741162, 71.04711378])"
            ]
          },
          "metadata": {},
          "execution_count": 9
        }
      ]
    },
    {
      "cell_type": "code",
      "source": [
        "heartrate1 = np.random.uniform(70.45,96.39,7610)\n",
        "heartrate2 = np.random.uniform(65.81,88.07,2390)\n",
        "heartrate = np.concatenate((heartrate1,heartrate2))\n",
        "heartrate"
      ],
      "metadata": {
        "colab": {
          "base_uri": "https://localhost:8080/"
        },
        "id": "ISa7XUhLi7gO",
        "outputId": "5aad2959-a6fc-4fd9-c426-4fe2b9aa7fdb"
      },
      "execution_count": 10,
      "outputs": [
        {
          "output_type": "execute_result",
          "data": {
            "text/plain": [
              "array([81.3124868 , 82.19390373, 94.35266412, ..., 76.99341672,\n",
              "       69.78484016, 68.33685872])"
            ]
          },
          "metadata": {},
          "execution_count": 10
        }
      ]
    },
    {
      "cell_type": "code",
      "source": [
        "body_mass_index1 = np.random.uniform(22.08,30.16,7610)\n",
        "body_mass_index2 = np.random.uniform(22.66,30.01,2390)\n",
        "body_mass_index = np.concatenate((body_mass_index1,body_mass_index2))\n",
        "body_mass_index"
      ],
      "metadata": {
        "colab": {
          "base_uri": "https://localhost:8080/"
        },
        "id": "gMcZR_ZvjF1-",
        "outputId": "cdcf5c5e-d2cd-4c36-e1d5-6cc49d40fbfd"
      },
      "execution_count": 11,
      "outputs": [
        {
          "output_type": "execute_result",
          "data": {
            "text/plain": [
              "array([25.54148108, 29.20095534, 22.83167507, ..., 25.01055181,\n",
              "       26.06523807, 23.73538042])"
            ]
          },
          "metadata": {},
          "execution_count": 11
        }
      ]
    },
    {
      "cell_type": "code",
      "source": [
        "waist_hip_rate1 = np.random.uniform(0.87,1.01,7610)\n",
        "waist_hip_rate2 = np.random.uniform(0.88,1.02,2390)\n",
        "waist_hip_rate = np.concatenate((waist_hip_rate1,waist_hip_rate2))\n",
        "waist_hip_rate"
      ],
      "metadata": {
        "colab": {
          "base_uri": "https://localhost:8080/"
        },
        "id": "b7zww6kujScZ",
        "outputId": "e9a80fbe-8bdc-45a0-e7fb-cbc1f519d164"
      },
      "execution_count": 12,
      "outputs": [
        {
          "output_type": "execute_result",
          "data": {
            "text/plain": [
              "array([0.97552264, 0.97266335, 0.95746041, ..., 0.92798664, 0.89646777,\n",
              "       0.95606217])"
            ]
          },
          "metadata": {},
          "execution_count": 12
        }
      ]
    },
    {
      "cell_type": "code",
      "source": [
        "blood_platelet1 = np.random.uniform(156.47,294.29,7610)\n",
        "blood_platelet2 = np.random.uniform(112.42,287.86,2390)\n",
        "blood_platelet = np.concatenate((blood_platelet1,blood_platelet2))\n",
        "blood_platelet"
      ],
      "metadata": {
        "colab": {
          "base_uri": "https://localhost:8080/"
        },
        "id": "NPft4xi-jagu",
        "outputId": "301ff144-2ba0-4555-b898-13537d8cddbe"
      },
      "execution_count": 13,
      "outputs": [
        {
          "output_type": "execute_result",
          "data": {
            "text/plain": [
              "array([184.9402072 , 178.31483497, 157.79819899, ..., 165.03836987,\n",
              "       140.81163586, 203.76818759])"
            ]
          },
          "metadata": {},
          "execution_count": 13
        }
      ]
    },
    {
      "cell_type": "code",
      "source": [
        "hemoglobin1 = np.random.uniform(7.56,12.12,7610)\n",
        "hemoglobin2 = np.random.uniform(7.18,11.58,2390)\n",
        "hemoglobin = np.concatenate((hemoglobin1,hemoglobin2))\n",
        "hemoglobin"
      ],
      "metadata": {
        "colab": {
          "base_uri": "https://localhost:8080/"
        },
        "id": "TX9eJIhRjnP_",
        "outputId": "dc88a4c7-1a74-4c43-d7a0-a0eb7ab35467"
      },
      "execution_count": 14,
      "outputs": [
        {
          "output_type": "execute_result",
          "data": {
            "text/plain": [
              "array([7.95433277, 8.55787328, 8.05794992, ..., 7.54570396, 9.45159464,\n",
              "       7.47947924])"
            ]
          },
          "metadata": {},
          "execution_count": 14
        }
      ]
    },
    {
      "cell_type": "code",
      "source": [
        "serum_creatinine1 = np.random.uniform(39.59,94.91,7610)\n",
        "serum_creatinine2 = np.random.uniform(44.24,108.18,2390)\n",
        "serum_creatinine = np.concatenate((serum_creatinine1,serum_creatinine2))\n",
        "serum_creatinine"
      ],
      "metadata": {
        "colab": {
          "base_uri": "https://localhost:8080/"
        },
        "id": "oSfkiUIijt3p",
        "outputId": "dc06f207-4742-457b-a676-e146f933a8a6"
      },
      "execution_count": 15,
      "outputs": [
        {
          "output_type": "execute_result",
          "data": {
            "text/plain": [
              "array([48.76283419, 44.47575163, 44.44625579, ..., 71.02132076,\n",
              "       92.62022914, 47.9796293 ])"
            ]
          },
          "metadata": {},
          "execution_count": 15
        }
      ]
    },
    {
      "cell_type": "code",
      "source": [
        "uric_acid1 = np.random.uniform(312.95,326.53,7610)\n",
        "uric_acid2 = np.random.uniform(321.41,346.41,2390)\n",
        "uric_acid = np.concatenate((uric_acid1,uric_acid2))\n",
        "uric_acid"
      ],
      "metadata": {
        "colab": {
          "base_uri": "https://localhost:8080/"
        },
        "id": "YHrggO5mj11t",
        "outputId": "04e5bdd5-96b1-4552-b3ef-900d89a09b2a"
      },
      "execution_count": 16,
      "outputs": [
        {
          "output_type": "execute_result",
          "data": {
            "text/plain": [
              "array([320.09802498, 314.52319106, 322.05229482, ..., 332.58820781,\n",
              "       323.6948931 , 332.58518416])"
            ]
          },
          "metadata": {},
          "execution_count": 16
        }
      ]
    },
    {
      "cell_type": "code",
      "source": [
        "serum_triglyceride1 = np.random.uniform(1.88,2.17,7610)\n",
        "serum_triglyceride2 = np.random.uniform(1.58,1.95,2390)\n",
        "serum_triglyceride = np.concatenate((serum_triglyceride1,serum_triglyceride2))\n",
        "serum_triglyceride"
      ],
      "metadata": {
        "colab": {
          "base_uri": "https://localhost:8080/"
        },
        "id": "ZwOsJc9Dj8lQ",
        "outputId": "e605a248-46b3-413f-9eac-0555d5b39e25"
      },
      "execution_count": 17,
      "outputs": [
        {
          "output_type": "execute_result",
          "data": {
            "text/plain": [
              "array([1.90959059, 2.06273524, 1.94189494, ..., 1.70840961, 1.88856274,\n",
              "       1.64909184])"
            ]
          },
          "metadata": {},
          "execution_count": 17
        }
      ]
    },
    {
      "cell_type": "code",
      "source": [
        "total_cholesterol1 = np.random.uniform(3.5,5.92,7610)\n",
        "total_cholesterol2 = np.random.uniform(2.96,5.3,2390)\n",
        "total_cholesterol = np.concatenate((total_cholesterol1,total_cholesterol2))\n",
        "total_cholesterol"
      ],
      "metadata": {
        "colab": {
          "base_uri": "https://localhost:8080/"
        },
        "id": "yQe3yHNCkE3x",
        "outputId": "b9d96ec0-78a0-47a9-9f9b-26ea9bfd93f2"
      },
      "execution_count": 39,
      "outputs": [
        {
          "output_type": "execute_result",
          "data": {
            "text/plain": [
              "array([3.50798187, 5.38250631, 5.13017157, ..., 3.20890895, 5.10134072,\n",
              "       5.0744999 ])"
            ]
          },
          "metadata": {},
          "execution_count": 39
        }
      ]
    },
    {
      "cell_type": "code",
      "source": [
        "LDL_cholesterol1 = np.random.uniform(2.14,3.9,7610)\n",
        "LDL_cholesterol2 = np.random.uniform(1.7,3.44,2390)\n",
        "LDL_cholesterol = np.concatenate((LDL_cholesterol1,LDL_cholesterol2))\n",
        "LDL_cholesterol"
      ],
      "metadata": {
        "colab": {
          "base_uri": "https://localhost:8080/"
        },
        "id": "rE47FZxRkOAu",
        "outputId": "62d2308c-e37e-4ad4-f4f5-322e894f56e1"
      },
      "execution_count": 19,
      "outputs": [
        {
          "output_type": "execute_result",
          "data": {
            "text/plain": [
              "array([3.53224865, 2.2096279 , 3.4020882 , ..., 3.38762702, 3.39564501,\n",
              "       3.00339123])"
            ]
          },
          "metadata": {},
          "execution_count": 19
        }
      ]
    },
    {
      "cell_type": "code",
      "source": [
        "HDL_cholesterol1 = np.random.uniform(0.81,1.35,7610)\n",
        "HDL_cholesterol2 = np.random.uniform(0.76,1.32,2390)\n",
        "HDL_cholesterol = np.concatenate((HDL_cholesterol1,HDL_cholesterol2))\n",
        "HDL_cholesterol"
      ],
      "metadata": {
        "colab": {
          "base_uri": "https://localhost:8080/"
        },
        "id": "RC9aaet7kVJF",
        "outputId": "7163d2ed-c724-4911-fbe7-391a196fb80a"
      },
      "execution_count": 20,
      "outputs": [
        {
          "output_type": "execute_result",
          "data": {
            "text/plain": [
              "array([0.87335039, 1.08424007, 0.97579473, ..., 1.14454344, 0.95298909,\n",
              "       0.79217   ])"
            ]
          },
          "metadata": {},
          "execution_count": 20
        }
      ]
    },
    {
      "cell_type": "code",
      "source": [
        "fasting_blood_glucose1 = np.random.uniform(8.78,9.38,7610)\n",
        "fasting_blood_glucose2 = np.random.uniform(8.15,9.08,2390)\n",
        "fasting_blood_glucose = np.concatenate((fasting_blood_glucose1,fasting_blood_glucose2))\n",
        "fasting_blood_glucose"
      ],
      "metadata": {
        "colab": {
          "base_uri": "https://localhost:8080/"
        },
        "id": "g7YYSfHHkdwW",
        "outputId": "2ff23ac4-cd55-4503-dcc2-6a2f03f3c01b"
      },
      "execution_count": 21,
      "outputs": [
        {
          "output_type": "execute_result",
          "data": {
            "text/plain": [
              "array([8.78376658, 9.13339349, 9.32109778, ..., 9.04166872, 8.63631275,\n",
              "       9.01975021])"
            ]
          },
          "metadata": {},
          "execution_count": 21
        }
      ]
    },
    {
      "cell_type": "code",
      "source": [
        "insulin0h1 = np.random.uniform(14.26,21.60,7610)\n",
        "insulin0h2 = np.random.uniform(18.98,40.30,2390)\n",
        "insulin0h = np.concatenate((insulin0h1,insulin0h2))\n",
        "insulin0h"
      ],
      "metadata": {
        "colab": {
          "base_uri": "https://localhost:8080/"
        },
        "id": "sR7MdGioklQU",
        "outputId": "51cd6470-ab0b-4fb2-d50d-d32b15effafe"
      },
      "execution_count": 22,
      "outputs": [
        {
          "output_type": "execute_result",
          "data": {
            "text/plain": [
              "array([17.73345507, 15.56021853, 17.42388267, ..., 28.78670866,\n",
              "       37.49023723, 34.88093643])"
            ]
          },
          "metadata": {},
          "execution_count": 22
        }
      ]
    },
    {
      "cell_type": "code",
      "source": [
        "insulin1h1 = np.random.uniform(53.64,64.38,7610)\n",
        "insulin1h2 = np.random.uniform(64.38,93.06,2390)\n",
        "insulin1h = np.concatenate((insulin1h1,insulin1h2))\n",
        "insulin1h"
      ],
      "metadata": {
        "colab": {
          "base_uri": "https://localhost:8080/"
        },
        "id": "gt9FHZzfktKJ",
        "outputId": "b34770d3-efc3-4ac6-e054-3d01b016802e"
      },
      "execution_count": 23,
      "outputs": [
        {
          "output_type": "execute_result",
          "data": {
            "text/plain": [
              "array([56.79156721, 63.1182038 , 61.84869667, ..., 68.02124017,\n",
              "       90.09601892, 69.37156899])"
            ]
          },
          "metadata": {},
          "execution_count": 23
        }
      ]
    },
    {
      "cell_type": "code",
      "source": [
        "insulin2h1 = np.random.uniform(59.82,70.36,7610)\n",
        "insulin2h2 = np.random.uniform(69.47,100.19,2390)\n",
        "insulin2h = np.concatenate((insulin2h1,insulin2h2))\n",
        "insulin2h"
      ],
      "metadata": {
        "colab": {
          "base_uri": "https://localhost:8080/"
        },
        "id": "CdYGuU7Dk0Bi",
        "outputId": "f34e58cf-be31-4fa5-a317-6e654faae8e4"
      },
      "execution_count": 24,
      "outputs": [
        {
          "output_type": "execute_result",
          "data": {
            "text/plain": [
              "array([62.26578257, 63.600528  , 66.66264949, ..., 89.75799477,\n",
              "       95.36830646, 72.96804692])"
            ]
          },
          "metadata": {},
          "execution_count": 24
        }
      ]
    },
    {
      "cell_type": "code",
      "source": [
        "insulin3h1 = np.random.uniform(48.16,58.52,7610)\n",
        "insulin3h2 = np.random.uniform(60.06,90.87,2390)\n",
        "insulin3h = np.concatenate((insulin3h1,insulin3h2))\n",
        "insulin3h"
      ],
      "metadata": {
        "colab": {
          "base_uri": "https://localhost:8080/"
        },
        "id": "lSICO3wGk60K",
        "outputId": "83b1cd40-2331-4944-fd0b-af8fb238ef34"
      },
      "execution_count": 25,
      "outputs": [
        {
          "output_type": "execute_result",
          "data": {
            "text/plain": [
              "array([56.99751344, 51.17287151, 52.95553544, ..., 86.7196416 ,\n",
              "       72.93958238, 73.80939547])"
            ]
          },
          "metadata": {},
          "execution_count": 25
        }
      ]
    },
    {
      "cell_type": "code",
      "source": [
        "cpeptide0h1 = np.random.uniform(1.51,1.64,7610)\n",
        "cpeptide0h2 = np.random.uniform(1.68,1.95,2390)\n",
        "cpeptide0h = np.concatenate((cpeptide0h1,cpeptide0h2))\n",
        "cpeptide0h "
      ],
      "metadata": {
        "colab": {
          "base_uri": "https://localhost:8080/"
        },
        "id": "lKtHDuC6lBkz",
        "outputId": "d2b7cb59-9159-4a3f-d010-f501959db387"
      },
      "execution_count": 26,
      "outputs": [
        {
          "output_type": "execute_result",
          "data": {
            "text/plain": [
              "array([1.55035155, 1.61557117, 1.57729505, ..., 1.72679268, 1.76408293,\n",
              "       1.82071779])"
            ]
          },
          "metadata": {},
          "execution_count": 26
        }
      ]
    },
    {
      "cell_type": "code",
      "source": [
        "cpeptide1h1 = np.random.uniform(2.63,2.88,7610)\n",
        "cpeptide1h2 = np.random.uniform(2.62,3.01,2390)\n",
        "cpeptide1h = np.concatenate((cpeptide1h1,cpeptide1h2))\n",
        "cpeptide1h"
      ],
      "metadata": {
        "colab": {
          "base_uri": "https://localhost:8080/"
        },
        "id": "AMhUo8dulHie",
        "outputId": "281293e9-d459-4ab2-f886-c77b1be99420"
      },
      "execution_count": 27,
      "outputs": [
        {
          "output_type": "execute_result",
          "data": {
            "text/plain": [
              "array([2.66214914, 2.86929938, 2.63938839, ..., 2.69948147, 2.99978278,\n",
              "       2.76346031])"
            ]
          },
          "metadata": {},
          "execution_count": 27
        }
      ]
    },
    {
      "cell_type": "code",
      "source": [
        "cpeptide2h1 = np.random.uniform(3.94,4.33,7610)\n",
        "cpeptide2h2 = np.random.uniform(3.84,4.48,2390)\n",
        "cpeptide2h = np.concatenate((cpeptide2h1,cpeptide2h2))\n",
        "cpeptide2h"
      ],
      "metadata": {
        "colab": {
          "base_uri": "https://localhost:8080/"
        },
        "id": "9zNuAlOqlWVh",
        "outputId": "0575c3fb-9e07-423b-e77a-84293156654f"
      },
      "execution_count": 28,
      "outputs": [
        {
          "output_type": "execute_result",
          "data": {
            "text/plain": [
              "array([3.97149181, 3.97657482, 4.16157706, ..., 4.15828047, 3.88178538,\n",
              "       4.34544857])"
            ]
          },
          "metadata": {},
          "execution_count": 28
        }
      ]
    },
    {
      "cell_type": "code",
      "source": [
        "cpeptide3h1 = np.random.uniform(4.05,4.44,7610)\n",
        "cpeptide3h2 = np.random.uniform(4.14,4.86,2390)\n",
        "cpeptide3h = np.concatenate((cpeptide3h1,cpeptide3h2))\n",
        "cpeptide3h"
      ],
      "metadata": {
        "colab": {
          "base_uri": "https://localhost:8080/"
        },
        "id": "0R6B3iR3lbxZ",
        "outputId": "3cc4bea5-d50c-4918-e0d8-c1406a151b59"
      },
      "execution_count": 29,
      "outputs": [
        {
          "output_type": "execute_result",
          "data": {
            "text/plain": [
              "array([4.26975522, 4.42160004, 4.11931401, ..., 4.34861165, 4.63307136,\n",
              "       4.76157217])"
            ]
          },
          "metadata": {},
          "execution_count": 29
        }
      ]
    },
    {
      "cell_type": "code",
      "source": [
        "\n",
        "label1 = np.array([0 for i in range(7610)])\n",
        "label2 = np.array([1 for i in range(2390)])\n",
        "label = np.concatenate((label1,label2))\n",
        "label\n"
      ],
      "metadata": {
        "colab": {
          "base_uri": "https://localhost:8080/"
        },
        "id": "3ggtFU2mn5G_",
        "outputId": "de4f7ab7-2bbf-4517-a325-79be0778bc19"
      },
      "execution_count": 30,
      "outputs": [
        {
          "output_type": "execute_result",
          "data": {
            "text/plain": [
              "array([0, 0, 0, ..., 1, 1, 1])"
            ]
          },
          "metadata": {},
          "execution_count": 30
        }
      ]
    },
    {
      "cell_type": "code",
      "source": [
        "data = pd.DataFrame()\n",
        "\n",
        "# defining the columns of the dataset\n",
        "data['gender'] = gender\n",
        "data['smokers'] = smokers\n",
        "data['drinking alcohol'] = drinking_alcohol\n",
        "data['age'] = age\n",
        "data['course of hypertension'] = course_of_hypertension\n",
        "data['course of diabetes'] = course_of_diabetes\n",
        "data['systolic pressure'] = systolic_pressure\n",
        "data['diastolic pressure'] = diastolic_pressure\n",
        "data['heartrate'] = heartrate\n",
        "data['body mass index'] = body_mass_index\n",
        "data['waist hip rate'] = waist_hip_rate\n",
        "data['blood platelet'] = blood_platelet\n",
        "data['hemoglobin'] = hemoglobin\n",
        "data['serum creatinine'] = serum_creatinine\n",
        "data['uric acid'] = uric_acid\n",
        "data['serum triglyceride'] = serum_triglyceride\n",
        "data['total cholesterol'] = total_cholesterol\n",
        "data['LDL cholesterol'] = LDL_cholesterol\n",
        "data['HDL cholesterol'] = HDL_cholesterol\n",
        "data['fasting blood glucose'] = fasting_blood_glucose\n",
        "data['insulin 0 h'] = insulin0h\n",
        "data['insulin 1 h'] = insulin1h\n",
        "data['insulin 2 h'] = insulin2h\n",
        "data['insulin 3 h'] = insulin3h\n",
        "data['c-peptide 0 h'] = cpeptide0h\n",
        "data['c-peptide 1 h'] = cpeptide1h\n",
        "data['c-peptide 2 h'] = cpeptide2h\n",
        "data['c-peptide 3 h'] = cpeptide3h\n",
        "data['label'] = label\n",
        "\n",
        "data"
      ],
      "metadata": {
        "colab": {
          "base_uri": "https://localhost:8080/",
          "height": 522
        },
        "id": "--wu7q1Vl3H2",
        "outputId": "9c40cc26-9bf3-4452-db4e-f7f7de14eae0"
      },
      "execution_count": 31,
      "outputs": [
        {
          "output_type": "execute_result",
          "data": {
            "text/plain": [
              "      gender  smokers  drinking alcohol        age  course of hypertension  \\\n",
              "0          0        1                 0  48.654095                5.030040   \n",
              "1          1        1                 0  55.329031                4.971035   \n",
              "2          1        1                 0  40.465343                5.841491   \n",
              "3          1        1                 1  42.002881                5.018067   \n",
              "4          0        0                 1  57.992213                5.652927   \n",
              "...      ...      ...               ...        ...                     ...   \n",
              "9995       1        0                 0  63.923591               10.588691   \n",
              "9996       0        0                 0  62.501890                9.641847   \n",
              "9997       1        0                 0  72.672679                9.316622   \n",
              "9998       0        1                 0  69.259828               10.296758   \n",
              "9999       0        0                 1  59.227680                9.389698   \n",
              "\n",
              "      course of diabetes  systolic pressure  diastolic pressure  heartrate  \\\n",
              "0               7.016276         117.276269           80.763916  81.312487   \n",
              "1               7.686312         140.991153           67.871453  82.193904   \n",
              "2               7.295968         113.764177           69.022544  94.352664   \n",
              "3               7.474600         136.011204           74.219569  70.822251   \n",
              "4               7.564002         145.228945           85.457356  89.618183   \n",
              "...                  ...                ...                 ...        ...   \n",
              "9995           11.055659         145.922098           69.603052  72.641065   \n",
              "9996           11.213081         144.010698           78.497338  78.601933   \n",
              "9997           10.555426         111.035014           73.236309  76.993417   \n",
              "9998           10.852689         125.323716           76.367412  69.784840   \n",
              "9999           10.795830         125.254774           71.047114  68.336859   \n",
              "\n",
              "      body mass index  ...  fasting blood glucose  insulin 0 h  insulin 1 h  \\\n",
              "0           25.541481  ...               8.783767    17.733455    56.791567   \n",
              "1           29.200955  ...               9.133393    15.560219    63.118204   \n",
              "2           22.831675  ...               9.321098    17.423883    61.848697   \n",
              "3           22.896307  ...               8.814333    15.866851    58.604254   \n",
              "4           29.693761  ...               9.030606    14.509467    61.343153   \n",
              "...               ...  ...                    ...          ...          ...   \n",
              "9995        26.182690  ...               8.583274    21.303602    69.540262   \n",
              "9996        25.369006  ...               8.982185    23.967063    81.018621   \n",
              "9997        25.010552  ...               9.041669    28.786709    68.021240   \n",
              "9998        26.065238  ...               8.636313    37.490237    90.096019   \n",
              "9999        23.735380  ...               9.019750    34.880936    69.371569   \n",
              "\n",
              "      insulin 2 h  insulin 3 h  c-peptide 0 h  c-peptide 1 h  c-peptide 2 h  \\\n",
              "0       62.265783    56.997513       1.550352       2.662149       3.971492   \n",
              "1       63.600528    51.172872       1.615571       2.869299       3.976575   \n",
              "2       66.662649    52.955535       1.577295       2.639388       4.161577   \n",
              "3       63.655445    51.638842       1.529334       2.673309       4.238613   \n",
              "4       66.262061    49.085819       1.561491       2.654616       4.110975   \n",
              "...           ...          ...            ...            ...            ...   \n",
              "9995    77.647696    86.803652       1.787934       2.646685       4.062610   \n",
              "9996    86.423009    63.883113       1.907145       2.907221       3.973844   \n",
              "9997    89.757995    86.719642       1.726793       2.699481       4.158280   \n",
              "9998    95.368306    72.939582       1.764083       2.999783       3.881785   \n",
              "9999    72.968047    73.809395       1.820718       2.763460       4.345449   \n",
              "\n",
              "      c-peptide 3 h  label  \n",
              "0          4.269755      0  \n",
              "1          4.421600      0  \n",
              "2          4.119314      0  \n",
              "3          4.064006      0  \n",
              "4          4.437058      0  \n",
              "...             ...    ...  \n",
              "9995       4.148671      1  \n",
              "9996       4.673824      1  \n",
              "9997       4.348612      1  \n",
              "9998       4.633071      1  \n",
              "9999       4.761572      1  \n",
              "\n",
              "[10000 rows x 29 columns]"
            ],
            "text/html": [
              "\n",
              "  <div id=\"df-9b2a70eb-5498-46fe-9cf3-7256905a9217\">\n",
              "    <div class=\"colab-df-container\">\n",
              "      <div>\n",
              "<style scoped>\n",
              "    .dataframe tbody tr th:only-of-type {\n",
              "        vertical-align: middle;\n",
              "    }\n",
              "\n",
              "    .dataframe tbody tr th {\n",
              "        vertical-align: top;\n",
              "    }\n",
              "\n",
              "    .dataframe thead th {\n",
              "        text-align: right;\n",
              "    }\n",
              "</style>\n",
              "<table border=\"1\" class=\"dataframe\">\n",
              "  <thead>\n",
              "    <tr style=\"text-align: right;\">\n",
              "      <th></th>\n",
              "      <th>gender</th>\n",
              "      <th>smokers</th>\n",
              "      <th>drinking alcohol</th>\n",
              "      <th>age</th>\n",
              "      <th>course of hypertension</th>\n",
              "      <th>course of diabetes</th>\n",
              "      <th>systolic pressure</th>\n",
              "      <th>diastolic pressure</th>\n",
              "      <th>heartrate</th>\n",
              "      <th>body mass index</th>\n",
              "      <th>...</th>\n",
              "      <th>fasting blood glucose</th>\n",
              "      <th>insulin 0 h</th>\n",
              "      <th>insulin 1 h</th>\n",
              "      <th>insulin 2 h</th>\n",
              "      <th>insulin 3 h</th>\n",
              "      <th>c-peptide 0 h</th>\n",
              "      <th>c-peptide 1 h</th>\n",
              "      <th>c-peptide 2 h</th>\n",
              "      <th>c-peptide 3 h</th>\n",
              "      <th>label</th>\n",
              "    </tr>\n",
              "  </thead>\n",
              "  <tbody>\n",
              "    <tr>\n",
              "      <th>0</th>\n",
              "      <td>0</td>\n",
              "      <td>1</td>\n",
              "      <td>0</td>\n",
              "      <td>48.654095</td>\n",
              "      <td>5.030040</td>\n",
              "      <td>7.016276</td>\n",
              "      <td>117.276269</td>\n",
              "      <td>80.763916</td>\n",
              "      <td>81.312487</td>\n",
              "      <td>25.541481</td>\n",
              "      <td>...</td>\n",
              "      <td>8.783767</td>\n",
              "      <td>17.733455</td>\n",
              "      <td>56.791567</td>\n",
              "      <td>62.265783</td>\n",
              "      <td>56.997513</td>\n",
              "      <td>1.550352</td>\n",
              "      <td>2.662149</td>\n",
              "      <td>3.971492</td>\n",
              "      <td>4.269755</td>\n",
              "      <td>0</td>\n",
              "    </tr>\n",
              "    <tr>\n",
              "      <th>1</th>\n",
              "      <td>1</td>\n",
              "      <td>1</td>\n",
              "      <td>0</td>\n",
              "      <td>55.329031</td>\n",
              "      <td>4.971035</td>\n",
              "      <td>7.686312</td>\n",
              "      <td>140.991153</td>\n",
              "      <td>67.871453</td>\n",
              "      <td>82.193904</td>\n",
              "      <td>29.200955</td>\n",
              "      <td>...</td>\n",
              "      <td>9.133393</td>\n",
              "      <td>15.560219</td>\n",
              "      <td>63.118204</td>\n",
              "      <td>63.600528</td>\n",
              "      <td>51.172872</td>\n",
              "      <td>1.615571</td>\n",
              "      <td>2.869299</td>\n",
              "      <td>3.976575</td>\n",
              "      <td>4.421600</td>\n",
              "      <td>0</td>\n",
              "    </tr>\n",
              "    <tr>\n",
              "      <th>2</th>\n",
              "      <td>1</td>\n",
              "      <td>1</td>\n",
              "      <td>0</td>\n",
              "      <td>40.465343</td>\n",
              "      <td>5.841491</td>\n",
              "      <td>7.295968</td>\n",
              "      <td>113.764177</td>\n",
              "      <td>69.022544</td>\n",
              "      <td>94.352664</td>\n",
              "      <td>22.831675</td>\n",
              "      <td>...</td>\n",
              "      <td>9.321098</td>\n",
              "      <td>17.423883</td>\n",
              "      <td>61.848697</td>\n",
              "      <td>66.662649</td>\n",
              "      <td>52.955535</td>\n",
              "      <td>1.577295</td>\n",
              "      <td>2.639388</td>\n",
              "      <td>4.161577</td>\n",
              "      <td>4.119314</td>\n",
              "      <td>0</td>\n",
              "    </tr>\n",
              "    <tr>\n",
              "      <th>3</th>\n",
              "      <td>1</td>\n",
              "      <td>1</td>\n",
              "      <td>1</td>\n",
              "      <td>42.002881</td>\n",
              "      <td>5.018067</td>\n",
              "      <td>7.474600</td>\n",
              "      <td>136.011204</td>\n",
              "      <td>74.219569</td>\n",
              "      <td>70.822251</td>\n",
              "      <td>22.896307</td>\n",
              "      <td>...</td>\n",
              "      <td>8.814333</td>\n",
              "      <td>15.866851</td>\n",
              "      <td>58.604254</td>\n",
              "      <td>63.655445</td>\n",
              "      <td>51.638842</td>\n",
              "      <td>1.529334</td>\n",
              "      <td>2.673309</td>\n",
              "      <td>4.238613</td>\n",
              "      <td>4.064006</td>\n",
              "      <td>0</td>\n",
              "    </tr>\n",
              "    <tr>\n",
              "      <th>4</th>\n",
              "      <td>0</td>\n",
              "      <td>0</td>\n",
              "      <td>1</td>\n",
              "      <td>57.992213</td>\n",
              "      <td>5.652927</td>\n",
              "      <td>7.564002</td>\n",
              "      <td>145.228945</td>\n",
              "      <td>85.457356</td>\n",
              "      <td>89.618183</td>\n",
              "      <td>29.693761</td>\n",
              "      <td>...</td>\n",
              "      <td>9.030606</td>\n",
              "      <td>14.509467</td>\n",
              "      <td>61.343153</td>\n",
              "      <td>66.262061</td>\n",
              "      <td>49.085819</td>\n",
              "      <td>1.561491</td>\n",
              "      <td>2.654616</td>\n",
              "      <td>4.110975</td>\n",
              "      <td>4.437058</td>\n",
              "      <td>0</td>\n",
              "    </tr>\n",
              "    <tr>\n",
              "      <th>...</th>\n",
              "      <td>...</td>\n",
              "      <td>...</td>\n",
              "      <td>...</td>\n",
              "      <td>...</td>\n",
              "      <td>...</td>\n",
              "      <td>...</td>\n",
              "      <td>...</td>\n",
              "      <td>...</td>\n",
              "      <td>...</td>\n",
              "      <td>...</td>\n",
              "      <td>...</td>\n",
              "      <td>...</td>\n",
              "      <td>...</td>\n",
              "      <td>...</td>\n",
              "      <td>...</td>\n",
              "      <td>...</td>\n",
              "      <td>...</td>\n",
              "      <td>...</td>\n",
              "      <td>...</td>\n",
              "      <td>...</td>\n",
              "      <td>...</td>\n",
              "    </tr>\n",
              "    <tr>\n",
              "      <th>9995</th>\n",
              "      <td>1</td>\n",
              "      <td>0</td>\n",
              "      <td>0</td>\n",
              "      <td>63.923591</td>\n",
              "      <td>10.588691</td>\n",
              "      <td>11.055659</td>\n",
              "      <td>145.922098</td>\n",
              "      <td>69.603052</td>\n",
              "      <td>72.641065</td>\n",
              "      <td>26.182690</td>\n",
              "      <td>...</td>\n",
              "      <td>8.583274</td>\n",
              "      <td>21.303602</td>\n",
              "      <td>69.540262</td>\n",
              "      <td>77.647696</td>\n",
              "      <td>86.803652</td>\n",
              "      <td>1.787934</td>\n",
              "      <td>2.646685</td>\n",
              "      <td>4.062610</td>\n",
              "      <td>4.148671</td>\n",
              "      <td>1</td>\n",
              "    </tr>\n",
              "    <tr>\n",
              "      <th>9996</th>\n",
              "      <td>0</td>\n",
              "      <td>0</td>\n",
              "      <td>0</td>\n",
              "      <td>62.501890</td>\n",
              "      <td>9.641847</td>\n",
              "      <td>11.213081</td>\n",
              "      <td>144.010698</td>\n",
              "      <td>78.497338</td>\n",
              "      <td>78.601933</td>\n",
              "      <td>25.369006</td>\n",
              "      <td>...</td>\n",
              "      <td>8.982185</td>\n",
              "      <td>23.967063</td>\n",
              "      <td>81.018621</td>\n",
              "      <td>86.423009</td>\n",
              "      <td>63.883113</td>\n",
              "      <td>1.907145</td>\n",
              "      <td>2.907221</td>\n",
              "      <td>3.973844</td>\n",
              "      <td>4.673824</td>\n",
              "      <td>1</td>\n",
              "    </tr>\n",
              "    <tr>\n",
              "      <th>9997</th>\n",
              "      <td>1</td>\n",
              "      <td>0</td>\n",
              "      <td>0</td>\n",
              "      <td>72.672679</td>\n",
              "      <td>9.316622</td>\n",
              "      <td>10.555426</td>\n",
              "      <td>111.035014</td>\n",
              "      <td>73.236309</td>\n",
              "      <td>76.993417</td>\n",
              "      <td>25.010552</td>\n",
              "      <td>...</td>\n",
              "      <td>9.041669</td>\n",
              "      <td>28.786709</td>\n",
              "      <td>68.021240</td>\n",
              "      <td>89.757995</td>\n",
              "      <td>86.719642</td>\n",
              "      <td>1.726793</td>\n",
              "      <td>2.699481</td>\n",
              "      <td>4.158280</td>\n",
              "      <td>4.348612</td>\n",
              "      <td>1</td>\n",
              "    </tr>\n",
              "    <tr>\n",
              "      <th>9998</th>\n",
              "      <td>0</td>\n",
              "      <td>1</td>\n",
              "      <td>0</td>\n",
              "      <td>69.259828</td>\n",
              "      <td>10.296758</td>\n",
              "      <td>10.852689</td>\n",
              "      <td>125.323716</td>\n",
              "      <td>76.367412</td>\n",
              "      <td>69.784840</td>\n",
              "      <td>26.065238</td>\n",
              "      <td>...</td>\n",
              "      <td>8.636313</td>\n",
              "      <td>37.490237</td>\n",
              "      <td>90.096019</td>\n",
              "      <td>95.368306</td>\n",
              "      <td>72.939582</td>\n",
              "      <td>1.764083</td>\n",
              "      <td>2.999783</td>\n",
              "      <td>3.881785</td>\n",
              "      <td>4.633071</td>\n",
              "      <td>1</td>\n",
              "    </tr>\n",
              "    <tr>\n",
              "      <th>9999</th>\n",
              "      <td>0</td>\n",
              "      <td>0</td>\n",
              "      <td>1</td>\n",
              "      <td>59.227680</td>\n",
              "      <td>9.389698</td>\n",
              "      <td>10.795830</td>\n",
              "      <td>125.254774</td>\n",
              "      <td>71.047114</td>\n",
              "      <td>68.336859</td>\n",
              "      <td>23.735380</td>\n",
              "      <td>...</td>\n",
              "      <td>9.019750</td>\n",
              "      <td>34.880936</td>\n",
              "      <td>69.371569</td>\n",
              "      <td>72.968047</td>\n",
              "      <td>73.809395</td>\n",
              "      <td>1.820718</td>\n",
              "      <td>2.763460</td>\n",
              "      <td>4.345449</td>\n",
              "      <td>4.761572</td>\n",
              "      <td>1</td>\n",
              "    </tr>\n",
              "  </tbody>\n",
              "</table>\n",
              "<p>10000 rows × 29 columns</p>\n",
              "</div>\n",
              "      <button class=\"colab-df-convert\" onclick=\"convertToInteractive('df-9b2a70eb-5498-46fe-9cf3-7256905a9217')\"\n",
              "              title=\"Convert this dataframe to an interactive table.\"\n",
              "              style=\"display:none;\">\n",
              "        \n",
              "  <svg xmlns=\"http://www.w3.org/2000/svg\" height=\"24px\"viewBox=\"0 0 24 24\"\n",
              "       width=\"24px\">\n",
              "    <path d=\"M0 0h24v24H0V0z\" fill=\"none\"/>\n",
              "    <path d=\"M18.56 5.44l.94 2.06.94-2.06 2.06-.94-2.06-.94-.94-2.06-.94 2.06-2.06.94zm-11 1L8.5 8.5l.94-2.06 2.06-.94-2.06-.94L8.5 2.5l-.94 2.06-2.06.94zm10 10l.94 2.06.94-2.06 2.06-.94-2.06-.94-.94-2.06-.94 2.06-2.06.94z\"/><path d=\"M17.41 7.96l-1.37-1.37c-.4-.4-.92-.59-1.43-.59-.52 0-1.04.2-1.43.59L10.3 9.45l-7.72 7.72c-.78.78-.78 2.05 0 2.83L4 21.41c.39.39.9.59 1.41.59.51 0 1.02-.2 1.41-.59l7.78-7.78 2.81-2.81c.8-.78.8-2.07 0-2.86zM5.41 20L4 18.59l7.72-7.72 1.47 1.35L5.41 20z\"/>\n",
              "  </svg>\n",
              "      </button>\n",
              "      \n",
              "  <style>\n",
              "    .colab-df-container {\n",
              "      display:flex;\n",
              "      flex-wrap:wrap;\n",
              "      gap: 12px;\n",
              "    }\n",
              "\n",
              "    .colab-df-convert {\n",
              "      background-color: #E8F0FE;\n",
              "      border: none;\n",
              "      border-radius: 50%;\n",
              "      cursor: pointer;\n",
              "      display: none;\n",
              "      fill: #1967D2;\n",
              "      height: 32px;\n",
              "      padding: 0 0 0 0;\n",
              "      width: 32px;\n",
              "    }\n",
              "\n",
              "    .colab-df-convert:hover {\n",
              "      background-color: #E2EBFA;\n",
              "      box-shadow: 0px 1px 2px rgba(60, 64, 67, 0.3), 0px 1px 3px 1px rgba(60, 64, 67, 0.15);\n",
              "      fill: #174EA6;\n",
              "    }\n",
              "\n",
              "    [theme=dark] .colab-df-convert {\n",
              "      background-color: #3B4455;\n",
              "      fill: #D2E3FC;\n",
              "    }\n",
              "\n",
              "    [theme=dark] .colab-df-convert:hover {\n",
              "      background-color: #434B5C;\n",
              "      box-shadow: 0px 1px 3px 1px rgba(0, 0, 0, 0.15);\n",
              "      filter: drop-shadow(0px 1px 2px rgba(0, 0, 0, 0.3));\n",
              "      fill: #FFFFFF;\n",
              "    }\n",
              "  </style>\n",
              "\n",
              "      <script>\n",
              "        const buttonEl =\n",
              "          document.querySelector('#df-9b2a70eb-5498-46fe-9cf3-7256905a9217 button.colab-df-convert');\n",
              "        buttonEl.style.display =\n",
              "          google.colab.kernel.accessAllowed ? 'block' : 'none';\n",
              "\n",
              "        async function convertToInteractive(key) {\n",
              "          const element = document.querySelector('#df-9b2a70eb-5498-46fe-9cf3-7256905a9217');\n",
              "          const dataTable =\n",
              "            await google.colab.kernel.invokeFunction('convertToInteractive',\n",
              "                                                     [key], {});\n",
              "          if (!dataTable) return;\n",
              "\n",
              "          const docLinkHtml = 'Like what you see? Visit the ' +\n",
              "            '<a target=\"_blank\" href=https://colab.research.google.com/notebooks/data_table.ipynb>data table notebook</a>'\n",
              "            + ' to learn more about interactive tables.';\n",
              "          element.innerHTML = '';\n",
              "          dataTable['output_type'] = 'display_data';\n",
              "          await google.colab.output.renderOutput(dataTable, element);\n",
              "          const docLink = document.createElement('div');\n",
              "          docLink.innerHTML = docLinkHtml;\n",
              "          element.appendChild(docLink);\n",
              "        }\n",
              "      </script>\n",
              "    </div>\n",
              "  </div>\n",
              "  "
            ]
          },
          "metadata": {},
          "execution_count": 31
        }
      ]
    },
    {
      "cell_type": "code",
      "source": [
        "cardio_data = data.sample(frac=1)\n",
        "cardio_data.reset_index(inplace= True, drop = True)\n",
        "cardio_data"
      ],
      "metadata": {
        "colab": {
          "base_uri": "https://localhost:8080/",
          "height": 522
        },
        "id": "aq0Xbnxn4zo3",
        "outputId": "28b04627-b932-457c-bb6b-e506b02c934f"
      },
      "execution_count": 32,
      "outputs": [
        {
          "output_type": "execute_result",
          "data": {
            "text/plain": [
              "      gender  smokers  drinking alcohol        age  course of hypertension  \\\n",
              "0          0        1                 1  65.851196               10.596679   \n",
              "1          1        0                 0  58.529134                9.413841   \n",
              "2          0        1                 0  62.579016               11.004075   \n",
              "3          0        0                 1  62.039286                5.842525   \n",
              "4          1        0                 1  48.174831                5.443777   \n",
              "...      ...      ...               ...        ...                     ...   \n",
              "9995       1        0                 0  60.042127                5.369463   \n",
              "9996       1        1                 1  46.351860                5.772669   \n",
              "9997       0        0                 0  59.135601                5.566585   \n",
              "9998       1        0                 0  55.605649                5.490611   \n",
              "9999       1        0                 1  43.156587                4.996065   \n",
              "\n",
              "      course of diabetes  systolic pressure  diastolic pressure  heartrate  \\\n",
              "0              10.933069         115.635494           79.034143  75.183610   \n",
              "1              10.384116         120.177974           73.825864  84.391013   \n",
              "2              11.853374         140.128415           74.490801  66.749773   \n",
              "3               7.330177         123.987420           87.934653  78.906013   \n",
              "4               7.389364         130.841985           82.840085  84.263473   \n",
              "...                  ...                ...                 ...        ...   \n",
              "9995            7.604061         143.464866           66.808899  86.336804   \n",
              "9996            7.342041         115.943897           70.791847  87.691533   \n",
              "9997            6.956371         116.424117           73.081330  93.398248   \n",
              "9998            7.654876         140.441120           82.083860  75.931349   \n",
              "9999            7.204685         138.757880           82.386542  72.717855   \n",
              "\n",
              "      body mass index  ...  fasting blood glucose  insulin 0 h  insulin 1 h  \\\n",
              "0           28.780193  ...               8.336309    36.398548    86.675861   \n",
              "1           22.892935  ...               8.816701    34.967749    73.947348   \n",
              "2           24.432276  ...               8.352254    24.762380    73.001599   \n",
              "3           22.795450  ...               8.924394    15.646501    57.703124   \n",
              "4           28.063707  ...               8.841761    16.293955    64.233952   \n",
              "...               ...  ...                    ...          ...          ...   \n",
              "9995        25.604164  ...               9.359454    17.446553    60.359903   \n",
              "9996        22.935119  ...               9.213388    20.952370    56.917510   \n",
              "9997        28.399058  ...               9.376674    20.203430    57.797796   \n",
              "9998        29.947927  ...               9.281812    20.580281    62.237532   \n",
              "9999        27.046939  ...               9.066644    17.854968    61.084537   \n",
              "\n",
              "      insulin 2 h  insulin 3 h  c-peptide 0 h  c-peptide 1 h  c-peptide 2 h  \\\n",
              "0       71.390342    60.812020       1.784685       2.748416       4.454146   \n",
              "1       78.458938    81.779302       1.713179       2.970240       3.872234   \n",
              "2       93.532904    65.568413       1.815071       2.765215       3.988513   \n",
              "3       61.889550    53.808904       1.610529       2.833245       4.094328   \n",
              "4       67.750660    53.808036       1.513928       2.777120       4.154340   \n",
              "...           ...          ...            ...            ...            ...   \n",
              "9995    65.409926    53.098768       1.625103       2.820857       4.214344   \n",
              "9996    63.214319    52.261992       1.521084       2.763870       4.001559   \n",
              "9997    63.034819    48.372381       1.627789       2.671630       4.180419   \n",
              "9998    60.990899    50.377625       1.634907       2.672647       4.180058   \n",
              "9999    63.215717    53.477395       1.544996       2.801195       4.271492   \n",
              "\n",
              "      c-peptide 3 h  label  \n",
              "0          4.757872      1  \n",
              "1          4.573412      1  \n",
              "2          4.738059      1  \n",
              "3          4.343682      0  \n",
              "4          4.164358      0  \n",
              "...             ...    ...  \n",
              "9995       4.434133      0  \n",
              "9996       4.147248      0  \n",
              "9997       4.208670      0  \n",
              "9998       4.150252      0  \n",
              "9999       4.415670      0  \n",
              "\n",
              "[10000 rows x 29 columns]"
            ],
            "text/html": [
              "\n",
              "  <div id=\"df-a45e6ef7-3d38-410d-80f4-7c88eb8777b1\">\n",
              "    <div class=\"colab-df-container\">\n",
              "      <div>\n",
              "<style scoped>\n",
              "    .dataframe tbody tr th:only-of-type {\n",
              "        vertical-align: middle;\n",
              "    }\n",
              "\n",
              "    .dataframe tbody tr th {\n",
              "        vertical-align: top;\n",
              "    }\n",
              "\n",
              "    .dataframe thead th {\n",
              "        text-align: right;\n",
              "    }\n",
              "</style>\n",
              "<table border=\"1\" class=\"dataframe\">\n",
              "  <thead>\n",
              "    <tr style=\"text-align: right;\">\n",
              "      <th></th>\n",
              "      <th>gender</th>\n",
              "      <th>smokers</th>\n",
              "      <th>drinking alcohol</th>\n",
              "      <th>age</th>\n",
              "      <th>course of hypertension</th>\n",
              "      <th>course of diabetes</th>\n",
              "      <th>systolic pressure</th>\n",
              "      <th>diastolic pressure</th>\n",
              "      <th>heartrate</th>\n",
              "      <th>body mass index</th>\n",
              "      <th>...</th>\n",
              "      <th>fasting blood glucose</th>\n",
              "      <th>insulin 0 h</th>\n",
              "      <th>insulin 1 h</th>\n",
              "      <th>insulin 2 h</th>\n",
              "      <th>insulin 3 h</th>\n",
              "      <th>c-peptide 0 h</th>\n",
              "      <th>c-peptide 1 h</th>\n",
              "      <th>c-peptide 2 h</th>\n",
              "      <th>c-peptide 3 h</th>\n",
              "      <th>label</th>\n",
              "    </tr>\n",
              "  </thead>\n",
              "  <tbody>\n",
              "    <tr>\n",
              "      <th>0</th>\n",
              "      <td>0</td>\n",
              "      <td>1</td>\n",
              "      <td>1</td>\n",
              "      <td>65.851196</td>\n",
              "      <td>10.596679</td>\n",
              "      <td>10.933069</td>\n",
              "      <td>115.635494</td>\n",
              "      <td>79.034143</td>\n",
              "      <td>75.183610</td>\n",
              "      <td>28.780193</td>\n",
              "      <td>...</td>\n",
              "      <td>8.336309</td>\n",
              "      <td>36.398548</td>\n",
              "      <td>86.675861</td>\n",
              "      <td>71.390342</td>\n",
              "      <td>60.812020</td>\n",
              "      <td>1.784685</td>\n",
              "      <td>2.748416</td>\n",
              "      <td>4.454146</td>\n",
              "      <td>4.757872</td>\n",
              "      <td>1</td>\n",
              "    </tr>\n",
              "    <tr>\n",
              "      <th>1</th>\n",
              "      <td>1</td>\n",
              "      <td>0</td>\n",
              "      <td>0</td>\n",
              "      <td>58.529134</td>\n",
              "      <td>9.413841</td>\n",
              "      <td>10.384116</td>\n",
              "      <td>120.177974</td>\n",
              "      <td>73.825864</td>\n",
              "      <td>84.391013</td>\n",
              "      <td>22.892935</td>\n",
              "      <td>...</td>\n",
              "      <td>8.816701</td>\n",
              "      <td>34.967749</td>\n",
              "      <td>73.947348</td>\n",
              "      <td>78.458938</td>\n",
              "      <td>81.779302</td>\n",
              "      <td>1.713179</td>\n",
              "      <td>2.970240</td>\n",
              "      <td>3.872234</td>\n",
              "      <td>4.573412</td>\n",
              "      <td>1</td>\n",
              "    </tr>\n",
              "    <tr>\n",
              "      <th>2</th>\n",
              "      <td>0</td>\n",
              "      <td>1</td>\n",
              "      <td>0</td>\n",
              "      <td>62.579016</td>\n",
              "      <td>11.004075</td>\n",
              "      <td>11.853374</td>\n",
              "      <td>140.128415</td>\n",
              "      <td>74.490801</td>\n",
              "      <td>66.749773</td>\n",
              "      <td>24.432276</td>\n",
              "      <td>...</td>\n",
              "      <td>8.352254</td>\n",
              "      <td>24.762380</td>\n",
              "      <td>73.001599</td>\n",
              "      <td>93.532904</td>\n",
              "      <td>65.568413</td>\n",
              "      <td>1.815071</td>\n",
              "      <td>2.765215</td>\n",
              "      <td>3.988513</td>\n",
              "      <td>4.738059</td>\n",
              "      <td>1</td>\n",
              "    </tr>\n",
              "    <tr>\n",
              "      <th>3</th>\n",
              "      <td>0</td>\n",
              "      <td>0</td>\n",
              "      <td>1</td>\n",
              "      <td>62.039286</td>\n",
              "      <td>5.842525</td>\n",
              "      <td>7.330177</td>\n",
              "      <td>123.987420</td>\n",
              "      <td>87.934653</td>\n",
              "      <td>78.906013</td>\n",
              "      <td>22.795450</td>\n",
              "      <td>...</td>\n",
              "      <td>8.924394</td>\n",
              "      <td>15.646501</td>\n",
              "      <td>57.703124</td>\n",
              "      <td>61.889550</td>\n",
              "      <td>53.808904</td>\n",
              "      <td>1.610529</td>\n",
              "      <td>2.833245</td>\n",
              "      <td>4.094328</td>\n",
              "      <td>4.343682</td>\n",
              "      <td>0</td>\n",
              "    </tr>\n",
              "    <tr>\n",
              "      <th>4</th>\n",
              "      <td>1</td>\n",
              "      <td>0</td>\n",
              "      <td>1</td>\n",
              "      <td>48.174831</td>\n",
              "      <td>5.443777</td>\n",
              "      <td>7.389364</td>\n",
              "      <td>130.841985</td>\n",
              "      <td>82.840085</td>\n",
              "      <td>84.263473</td>\n",
              "      <td>28.063707</td>\n",
              "      <td>...</td>\n",
              "      <td>8.841761</td>\n",
              "      <td>16.293955</td>\n",
              "      <td>64.233952</td>\n",
              "      <td>67.750660</td>\n",
              "      <td>53.808036</td>\n",
              "      <td>1.513928</td>\n",
              "      <td>2.777120</td>\n",
              "      <td>4.154340</td>\n",
              "      <td>4.164358</td>\n",
              "      <td>0</td>\n",
              "    </tr>\n",
              "    <tr>\n",
              "      <th>...</th>\n",
              "      <td>...</td>\n",
              "      <td>...</td>\n",
              "      <td>...</td>\n",
              "      <td>...</td>\n",
              "      <td>...</td>\n",
              "      <td>...</td>\n",
              "      <td>...</td>\n",
              "      <td>...</td>\n",
              "      <td>...</td>\n",
              "      <td>...</td>\n",
              "      <td>...</td>\n",
              "      <td>...</td>\n",
              "      <td>...</td>\n",
              "      <td>...</td>\n",
              "      <td>...</td>\n",
              "      <td>...</td>\n",
              "      <td>...</td>\n",
              "      <td>...</td>\n",
              "      <td>...</td>\n",
              "      <td>...</td>\n",
              "      <td>...</td>\n",
              "    </tr>\n",
              "    <tr>\n",
              "      <th>9995</th>\n",
              "      <td>1</td>\n",
              "      <td>0</td>\n",
              "      <td>0</td>\n",
              "      <td>60.042127</td>\n",
              "      <td>5.369463</td>\n",
              "      <td>7.604061</td>\n",
              "      <td>143.464866</td>\n",
              "      <td>66.808899</td>\n",
              "      <td>86.336804</td>\n",
              "      <td>25.604164</td>\n",
              "      <td>...</td>\n",
              "      <td>9.359454</td>\n",
              "      <td>17.446553</td>\n",
              "      <td>60.359903</td>\n",
              "      <td>65.409926</td>\n",
              "      <td>53.098768</td>\n",
              "      <td>1.625103</td>\n",
              "      <td>2.820857</td>\n",
              "      <td>4.214344</td>\n",
              "      <td>4.434133</td>\n",
              "      <td>0</td>\n",
              "    </tr>\n",
              "    <tr>\n",
              "      <th>9996</th>\n",
              "      <td>1</td>\n",
              "      <td>1</td>\n",
              "      <td>1</td>\n",
              "      <td>46.351860</td>\n",
              "      <td>5.772669</td>\n",
              "      <td>7.342041</td>\n",
              "      <td>115.943897</td>\n",
              "      <td>70.791847</td>\n",
              "      <td>87.691533</td>\n",
              "      <td>22.935119</td>\n",
              "      <td>...</td>\n",
              "      <td>9.213388</td>\n",
              "      <td>20.952370</td>\n",
              "      <td>56.917510</td>\n",
              "      <td>63.214319</td>\n",
              "      <td>52.261992</td>\n",
              "      <td>1.521084</td>\n",
              "      <td>2.763870</td>\n",
              "      <td>4.001559</td>\n",
              "      <td>4.147248</td>\n",
              "      <td>0</td>\n",
              "    </tr>\n",
              "    <tr>\n",
              "      <th>9997</th>\n",
              "      <td>0</td>\n",
              "      <td>0</td>\n",
              "      <td>0</td>\n",
              "      <td>59.135601</td>\n",
              "      <td>5.566585</td>\n",
              "      <td>6.956371</td>\n",
              "      <td>116.424117</td>\n",
              "      <td>73.081330</td>\n",
              "      <td>93.398248</td>\n",
              "      <td>28.399058</td>\n",
              "      <td>...</td>\n",
              "      <td>9.376674</td>\n",
              "      <td>20.203430</td>\n",
              "      <td>57.797796</td>\n",
              "      <td>63.034819</td>\n",
              "      <td>48.372381</td>\n",
              "      <td>1.627789</td>\n",
              "      <td>2.671630</td>\n",
              "      <td>4.180419</td>\n",
              "      <td>4.208670</td>\n",
              "      <td>0</td>\n",
              "    </tr>\n",
              "    <tr>\n",
              "      <th>9998</th>\n",
              "      <td>1</td>\n",
              "      <td>0</td>\n",
              "      <td>0</td>\n",
              "      <td>55.605649</td>\n",
              "      <td>5.490611</td>\n",
              "      <td>7.654876</td>\n",
              "      <td>140.441120</td>\n",
              "      <td>82.083860</td>\n",
              "      <td>75.931349</td>\n",
              "      <td>29.947927</td>\n",
              "      <td>...</td>\n",
              "      <td>9.281812</td>\n",
              "      <td>20.580281</td>\n",
              "      <td>62.237532</td>\n",
              "      <td>60.990899</td>\n",
              "      <td>50.377625</td>\n",
              "      <td>1.634907</td>\n",
              "      <td>2.672647</td>\n",
              "      <td>4.180058</td>\n",
              "      <td>4.150252</td>\n",
              "      <td>0</td>\n",
              "    </tr>\n",
              "    <tr>\n",
              "      <th>9999</th>\n",
              "      <td>1</td>\n",
              "      <td>0</td>\n",
              "      <td>1</td>\n",
              "      <td>43.156587</td>\n",
              "      <td>4.996065</td>\n",
              "      <td>7.204685</td>\n",
              "      <td>138.757880</td>\n",
              "      <td>82.386542</td>\n",
              "      <td>72.717855</td>\n",
              "      <td>27.046939</td>\n",
              "      <td>...</td>\n",
              "      <td>9.066644</td>\n",
              "      <td>17.854968</td>\n",
              "      <td>61.084537</td>\n",
              "      <td>63.215717</td>\n",
              "      <td>53.477395</td>\n",
              "      <td>1.544996</td>\n",
              "      <td>2.801195</td>\n",
              "      <td>4.271492</td>\n",
              "      <td>4.415670</td>\n",
              "      <td>0</td>\n",
              "    </tr>\n",
              "  </tbody>\n",
              "</table>\n",
              "<p>10000 rows × 29 columns</p>\n",
              "</div>\n",
              "      <button class=\"colab-df-convert\" onclick=\"convertToInteractive('df-a45e6ef7-3d38-410d-80f4-7c88eb8777b1')\"\n",
              "              title=\"Convert this dataframe to an interactive table.\"\n",
              "              style=\"display:none;\">\n",
              "        \n",
              "  <svg xmlns=\"http://www.w3.org/2000/svg\" height=\"24px\"viewBox=\"0 0 24 24\"\n",
              "       width=\"24px\">\n",
              "    <path d=\"M0 0h24v24H0V0z\" fill=\"none\"/>\n",
              "    <path d=\"M18.56 5.44l.94 2.06.94-2.06 2.06-.94-2.06-.94-.94-2.06-.94 2.06-2.06.94zm-11 1L8.5 8.5l.94-2.06 2.06-.94-2.06-.94L8.5 2.5l-.94 2.06-2.06.94zm10 10l.94 2.06.94-2.06 2.06-.94-2.06-.94-.94-2.06-.94 2.06-2.06.94z\"/><path d=\"M17.41 7.96l-1.37-1.37c-.4-.4-.92-.59-1.43-.59-.52 0-1.04.2-1.43.59L10.3 9.45l-7.72 7.72c-.78.78-.78 2.05 0 2.83L4 21.41c.39.39.9.59 1.41.59.51 0 1.02-.2 1.41-.59l7.78-7.78 2.81-2.81c.8-.78.8-2.07 0-2.86zM5.41 20L4 18.59l7.72-7.72 1.47 1.35L5.41 20z\"/>\n",
              "  </svg>\n",
              "      </button>\n",
              "      \n",
              "  <style>\n",
              "    .colab-df-container {\n",
              "      display:flex;\n",
              "      flex-wrap:wrap;\n",
              "      gap: 12px;\n",
              "    }\n",
              "\n",
              "    .colab-df-convert {\n",
              "      background-color: #E8F0FE;\n",
              "      border: none;\n",
              "      border-radius: 50%;\n",
              "      cursor: pointer;\n",
              "      display: none;\n",
              "      fill: #1967D2;\n",
              "      height: 32px;\n",
              "      padding: 0 0 0 0;\n",
              "      width: 32px;\n",
              "    }\n",
              "\n",
              "    .colab-df-convert:hover {\n",
              "      background-color: #E2EBFA;\n",
              "      box-shadow: 0px 1px 2px rgba(60, 64, 67, 0.3), 0px 1px 3px 1px rgba(60, 64, 67, 0.15);\n",
              "      fill: #174EA6;\n",
              "    }\n",
              "\n",
              "    [theme=dark] .colab-df-convert {\n",
              "      background-color: #3B4455;\n",
              "      fill: #D2E3FC;\n",
              "    }\n",
              "\n",
              "    [theme=dark] .colab-df-convert:hover {\n",
              "      background-color: #434B5C;\n",
              "      box-shadow: 0px 1px 3px 1px rgba(0, 0, 0, 0.15);\n",
              "      filter: drop-shadow(0px 1px 2px rgba(0, 0, 0, 0.3));\n",
              "      fill: #FFFFFF;\n",
              "    }\n",
              "  </style>\n",
              "\n",
              "      <script>\n",
              "        const buttonEl =\n",
              "          document.querySelector('#df-a45e6ef7-3d38-410d-80f4-7c88eb8777b1 button.colab-df-convert');\n",
              "        buttonEl.style.display =\n",
              "          google.colab.kernel.accessAllowed ? 'block' : 'none';\n",
              "\n",
              "        async function convertToInteractive(key) {\n",
              "          const element = document.querySelector('#df-a45e6ef7-3d38-410d-80f4-7c88eb8777b1');\n",
              "          const dataTable =\n",
              "            await google.colab.kernel.invokeFunction('convertToInteractive',\n",
              "                                                     [key], {});\n",
              "          if (!dataTable) return;\n",
              "\n",
              "          const docLinkHtml = 'Like what you see? Visit the ' +\n",
              "            '<a target=\"_blank\" href=https://colab.research.google.com/notebooks/data_table.ipynb>data table notebook</a>'\n",
              "            + ' to learn more about interactive tables.';\n",
              "          element.innerHTML = '';\n",
              "          dataTable['output_type'] = 'display_data';\n",
              "          await google.colab.output.renderOutput(dataTable, element);\n",
              "          const docLink = document.createElement('div');\n",
              "          docLink.innerHTML = docLinkHtml;\n",
              "          element.appendChild(docLink);\n",
              "        }\n",
              "      </script>\n",
              "    </div>\n",
              "  </div>\n",
              "  "
            ]
          },
          "metadata": {},
          "execution_count": 32
        }
      ]
    },
    {
      "cell_type": "code",
      "source": [
        "cardio_data.to_csv('cardiovascular.csv')"
      ],
      "metadata": {
        "id": "M-0jqUM-ojOR"
      },
      "execution_count": 33,
      "outputs": []
    },
    {
      "cell_type": "code",
      "source": [
        "import pandas as pd\n",
        "cardio = pd.read_csv('/content/cardiovascular.csv')"
      ],
      "metadata": {
        "id": "3k95rDaC9SVp"
      },
      "execution_count": 34,
      "outputs": []
    },
    {
      "cell_type": "code",
      "source": [
        "from google.colab import drive\n",
        "drive.mount('/content/drive')"
      ],
      "metadata": {
        "colab": {
          "base_uri": "https://localhost:8080/"
        },
        "id": "DyyOvmEoCWCZ",
        "outputId": "bfd8e4ec-2bef-473d-8312-36b510d1c848"
      },
      "execution_count": 35,
      "outputs": [
        {
          "output_type": "stream",
          "name": "stdout",
          "text": [
            "Mounted at /content/drive\n"
          ]
        }
      ]
    },
    {
      "cell_type": "code",
      "source": [
        "cardio_validate = pd.read_csv('/content/drive/MyDrive/cardiovascular.csv')"
      ],
      "metadata": {
        "id": "5hluHVj9CZs0"
      },
      "execution_count": 36,
      "outputs": []
    },
    {
      "cell_type": "code",
      "source": [
        "from sklearn.ensemble import RandomForestClassifier\n",
        "from sklearn.model_selection import train_test_split\n",
        "\n",
        "cardio_data = pd.DataFrame(cardio ,columns=cardio.columns[:-1])\n",
        "cardio_label = cardio.label\n",
        "X_train, X_test, y_train, y_test = train_test_split(cardio_data, cardio_label, test_size = 0.30, random_state = 17) \n",
        "\n",
        "clf = RandomForestClassifier(max_depth=10, random_state=0)\n",
        "clf.fit(X_train, y_train)\n",
        "\n",
        "#Training Error in terms of points:\n",
        "from sklearn.metrics import accuracy_score\n",
        "print(\"{:.2f} % of the testing points classified correctly\".format(100*accuracy_score(clf.predict(X_test), y_test)))\n",
        "\n",
        "cardio_validate_data = pd.DataFrame(cardio_validate,columns = cardio_validate.columns[:-1])\n",
        "cardio_validate_label = cardio_validate.label\n",
        "print(\"accuracy of validation\",100*accuracy_score(clf.predict(cardio_validate_data),cardio_validate_label))"
      ],
      "metadata": {
        "colab": {
          "base_uri": "https://localhost:8080/"
        },
        "id": "3scEOXpo73ip",
        "outputId": "5c8044ec-26ee-4466-a5b6-1e1d9191a260"
      },
      "execution_count": 38,
      "outputs": [
        {
          "output_type": "stream",
          "name": "stdout",
          "text": [
            "100.00 % of the testing points classified correctly\n",
            "accuracy of validation 100.0\n"
          ]
        }
      ]
    }
  ]
}