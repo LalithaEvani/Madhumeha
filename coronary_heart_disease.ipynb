{
  "nbformat": 4,
  "nbformat_minor": 0,
  "metadata": {
    "colab": {
      "name": "cardiovascular.ipynb",
      "provenance": [],
      "authorship_tag": "ABX9TyPqUg+7begPPc+xpwBsuXy3",
      "include_colab_link": true
    },
    "kernelspec": {
      "name": "python3",
      "display_name": "Python 3"
    },
    "language_info": {
      "name": "python"
    }
  },
  "cells": [
    {
      "cell_type": "markdown",
      "metadata": {
        "id": "view-in-github",
        "colab_type": "text"
      },
      "source": [
        "<a href=\"https://colab.research.google.com/github/LalithaEvani/Madhumeha/blob/main/coronary_heart_disease.ipynb\" target=\"_parent\"><img src=\"https://colab.research.google.com/assets/colab-badge.svg\" alt=\"Open In Colab\"/></a>"
      ]
    },
    {
      "cell_type": "markdown",
      "source": [
        "### **CORONARY HEART DISEASE PREDICTION AFTER DIAGNOSIS OF DIABETES**"
      ],
      "metadata": {
        "id": "boHcbYmtCeF9"
      }
    },
    {
      "cell_type": "markdown",
      "source": [
        "Dataset used\n",
        "From January 2017 till June 2019, 1,357 subjects with T2DM were recruited in the study. Patients with T2DM were recruited from the Inpatient Department of Endocrinology in Lu He hospital"
      ],
      "metadata": {
        "id": "Jwc_rTZY7bsX"
      }
    },
    {
      "cell_type": "markdown",
      "source": [
        "https://www.nature.com/articles/s41598-020-71321-2"
      ],
      "metadata": {
        "id": "xISPMfAO4iNx"
      }
    },
    {
      "cell_type": "markdown",
      "source": [
        "AI model to determine the risk of T2DM patients to develop to CHD(Coronary Heart Disease), which has potential value in providing early warning personalized guidance of CHD risk for both T2DM patients and clinicians.\n",
        "\n",
        "CHD is a disease of the less blood supplying to heart muscle vessels11 manifested as hyperlipidaemia, myocardial infarction, and angina pectoris\n",
        "\n",
        "It is known that individuals’ basic information like gender and age, and blood test indexes such as blood pressure, total cholesterol (TC), low-density lipoprotein cholesterol (LDL-C), high-density lipoprotein cholesterol (HDL-C) as well as smoking behaviour, diabetes status can be considered as risk factors of causing CHD"
      ],
      "metadata": {
        "id": "tYc1JtoK4c8g"
      }
    },
    {
      "cell_type": "markdown",
      "source": [
        "AI (random forest) based model to predict the risk of developing CHD for individuals with T2DM"
      ],
      "metadata": {
        "id": "-W_NVV4L5s4F"
      }
    },
    {
      "cell_type": "markdown",
      "source": [
        "the predictive model achieved an AUC of 0.77 (fivefold cross-validation) in the training dataset and an AUC of 0.80 in the testing dataset, respectively. Moreover, the model achieved an AUC of 0.71 on a totally independent dataset including 1,253 newly recruited T2DM patients."
      ],
      "metadata": {
        "id": "tjW-bkLO5t-b"
      }
    },
    {
      "cell_type": "markdown",
      "source": [
        "table containing range parameters for data considered \n",
        "\n",
        "https://www.nature.com/articles/s41598-020-71321-2/tables/1 "
      ],
      "metadata": {
        "id": "WwcyavAy6S9F"
      }
    },
    {
      "cell_type": "markdown",
      "source": [
        "we use the information entropy function and Gini impurity function to check the information hidden in each feature. One feature will get a higher score if this series of data contain more information for classification and vice versa. The information entropy function-based feature selection method is implemented by using random forest model with 500 decision trees in sci-kit-learn 0.2228 in Python 3."
      ],
      "metadata": {
        "id": "5l0D7vyx62Re"
      }
    },
    {
      "cell_type": "markdown",
      "source": [
        "Webserver based prediction \n",
        "\n",
        "https://www.cuilab.cn/dchd/#single"
      ],
      "metadata": {
        "id": "VTwjDLI77HO-"
      }
    },
    {
      "cell_type": "code",
      "source": [
        "# importing libraries\n",
        "import numpy as np\n",
        "import pandas as pd\n",
        "import math\n",
        "import random\n",
        "import matplotlib.pyplot as plt"
      ],
      "metadata": {
        "id": "BSeoMGVefZvT"
      },
      "execution_count": 1,
      "outputs": []
    },
    {
      "cell_type": "code",
      "source": [
        "gender1= np.random.choice([0,1], size=7610, p=[0.482,0.518]) #0 for female \n",
        "gender2 = np.random.choice([0,1], size=2390, p=[0.470,0.530]) \n",
        "gender = np.concatenate((gender1,gender2))\n",
        "gender"
      ],
      "metadata": {
        "colab": {
          "base_uri": "https://localhost:8080/"
        },
        "id": "igA1PcmxBMDI",
        "outputId": "668c2e84-ae27-4095-e7db-1ced2fa35a77"
      },
      "execution_count": 2,
      "outputs": [
        {
          "output_type": "execute_result",
          "data": {
            "text/plain": [
              "array([0, 1, 0, ..., 0, 0, 0])"
            ]
          },
          "metadata": {},
          "execution_count": 2
        }
      ]
    },
    {
      "cell_type": "code",
      "source": [
        "smokers1= np.random.choice([1,0], size=7610, p=[0.381,0.619])\n",
        "smokers2= np.random.choice([1,0], size=2390, p=[0.424,0.576])\n",
        "smokers = np.concatenate((smokers1,smokers2))\n",
        "print(smokers)\n"
      ],
      "metadata": {
        "colab": {
          "base_uri": "https://localhost:8080/"
        },
        "id": "vCw904dPfXhN",
        "outputId": "9817fbb0-8467-42b8-9008-bf986465a942"
      },
      "execution_count": 3,
      "outputs": [
        {
          "output_type": "stream",
          "name": "stdout",
          "text": [
            "[0 0 1 ... 1 1 1]\n"
          ]
        }
      ]
    },
    {
      "cell_type": "code",
      "source": [
        "drinking_alcohol1= np.random.choice([1,0], size=7610, p=[0.318,0.682])\n",
        "drinking_alcohol2= np.random.choice([1,0], size=2390, p=[0.319,0.681])\n",
        "drinking_alcohol = np.concatenate((drinking_alcohol1,drinking_alcohol2))\n",
        "print(drinking_alcohol)"
      ],
      "metadata": {
        "colab": {
          "base_uri": "https://localhost:8080/"
        },
        "id": "skyCBmzUfgDt",
        "outputId": "e8020ba8-95e8-4202-9fb9-dbcc74ee0143"
      },
      "execution_count": 4,
      "outputs": [
        {
          "output_type": "stream",
          "name": "stdout",
          "text": [
            "[0 0 0 ... 0 0 1]\n"
          ]
        }
      ]
    },
    {
      "cell_type": "code",
      "source": [
        "age1 = np.random.uniform(39.77,68.37,7610)\n",
        "age2 = np.random.uniform(55.16,74.66,2390)\n",
        "age = np.concatenate((age1,age2))\n",
        "age"
      ],
      "metadata": {
        "colab": {
          "base_uri": "https://localhost:8080/"
        },
        "id": "SDV76o7dfrJ2",
        "outputId": "698ee4e9-de10-4e3f-b830-0d3d49d3b5cd"
      },
      "execution_count": 5,
      "outputs": [
        {
          "output_type": "execute_result",
          "data": {
            "text/plain": [
              "array([61.46040915, 56.19390059, 49.61827599, ..., 64.89308613,\n",
              "       64.76033265, 56.58226185])"
            ]
          },
          "metadata": {},
          "execution_count": 5
        }
      ]
    },
    {
      "cell_type": "code",
      "source": [
        "course_of_hypertension1 = np.random.uniform(4.92,5.98,7610)\n",
        "course_of_hypertension2 = np.random.uniform(9.10,11.55,2390)\n",
        "course_of_hypertension = np.concatenate((course_of_hypertension1, course_of_hypertension2))\n",
        "course_of_hypertension"
      ],
      "metadata": {
        "colab": {
          "base_uri": "https://localhost:8080/"
        },
        "id": "i3Bu3ryViEyE",
        "outputId": "17d42c9d-9d69-4cd2-c2a9-abf34d1a3eec"
      },
      "execution_count": 6,
      "outputs": [
        {
          "output_type": "execute_result",
          "data": {
            "text/plain": [
              "array([5.31253333, 5.05898696, 5.26548947, ..., 9.90982231, 9.77971594,\n",
              "       9.45181043])"
            ]
          },
          "metadata": {},
          "execution_count": 6
        }
      ]
    },
    {
      "cell_type": "code",
      "source": [
        "course_of_diabetes1 = np.random.uniform(6.80,7.73,7610)\n",
        "course_of_diabetes2= np.random.uniform(10.38,12.36,2390)\n",
        "course_of_diabetes = np.concatenate((course_of_diabetes1,course_of_diabetes2))\n",
        "course_of_diabetes"
      ],
      "metadata": {
        "colab": {
          "base_uri": "https://localhost:8080/"
        },
        "id": "oSa8BRviiT8n",
        "outputId": "78a17208-27a0-4d6b-8f4e-e8e1aef849c7"
      },
      "execution_count": 7,
      "outputs": [
        {
          "output_type": "execute_result",
          "data": {
            "text/plain": [
              "array([ 7.32521002,  7.59976366,  7.3352454 , ..., 11.83328666,\n",
              "       11.74072253, 11.84732216])"
            ]
          },
          "metadata": {},
          "execution_count": 7
        }
      ]
    },
    {
      "cell_type": "code",
      "source": [
        "systolic_pressure1 = np.random.uniform(110.26,147.74,7610)\n",
        "systolic_pressure2= np.random.uniform(107.74,149.62,2390)\n",
        "systolic_pressure = np.concatenate((systolic_pressure1,systolic_pressure2))\n",
        "systolic_pressure"
      ],
      "metadata": {
        "colab": {
          "base_uri": "https://localhost:8080/"
        },
        "id": "LQx8bkL9ii2o",
        "outputId": "332e27bc-e4a8-4aac-dbba-f256f2046a6c"
      },
      "execution_count": 8,
      "outputs": [
        {
          "output_type": "execute_result",
          "data": {
            "text/plain": [
              "array([126.07520652, 135.8265084 , 129.87057877, ..., 122.43757116,\n",
              "       108.24379966, 148.31900765])"
            ]
          },
          "metadata": {},
          "execution_count": 8
        }
      ]
    },
    {
      "cell_type": "code",
      "source": [
        "diastolic_pressure1 = np.random.uniform(65.5, 88.72,7610)\n",
        "diastolic_pressure2 = np.random.uniform(60.1,85.5,2390)\n",
        "diastolic_pressure = np.concatenate((diastolic_pressure1,diastolic_pressure2))\n",
        "diastolic_pressure"
      ],
      "metadata": {
        "colab": {
          "base_uri": "https://localhost:8080/"
        },
        "id": "fJNiq-_3iwYv",
        "outputId": "21c5871a-cbba-46d5-f01c-3587f51406e7"
      },
      "execution_count": 9,
      "outputs": [
        {
          "output_type": "execute_result",
          "data": {
            "text/plain": [
              "array([82.33432996, 82.3229957 , 76.12284721, ..., 77.38576049,\n",
              "       73.79502339, 73.22339177])"
            ]
          },
          "metadata": {},
          "execution_count": 9
        }
      ]
    },
    {
      "cell_type": "code",
      "source": [
        "heartrate1 = np.random.uniform(70.45,96.39,7610)\n",
        "heartrate2 = np.random.uniform(65.81,88.07,2390)\n",
        "heartrate = np.concatenate((heartrate1,heartrate2))\n",
        "heartrate"
      ],
      "metadata": {
        "colab": {
          "base_uri": "https://localhost:8080/"
        },
        "id": "ISa7XUhLi7gO",
        "outputId": "3f8e4bc4-b3e9-41b7-d3ea-de791efb43a9"
      },
      "execution_count": 10,
      "outputs": [
        {
          "output_type": "execute_result",
          "data": {
            "text/plain": [
              "array([81.45505598, 79.52287539, 87.27063417, ..., 84.20825621,\n",
              "       80.41813198, 77.09802771])"
            ]
          },
          "metadata": {},
          "execution_count": 10
        }
      ]
    },
    {
      "cell_type": "code",
      "source": [
        "body_mass_index1 = np.random.uniform(22.08,30.16,7610)\n",
        "body_mass_index2 = np.random.uniform(22.66,30.01,2390)\n",
        "body_mass_index = np.concatenate((body_mass_index1,body_mass_index2))\n",
        "body_mass_index"
      ],
      "metadata": {
        "colab": {
          "base_uri": "https://localhost:8080/"
        },
        "id": "gMcZR_ZvjF1-",
        "outputId": "ba2c2d56-8c83-4d50-9a90-f09f8a50902f"
      },
      "execution_count": 11,
      "outputs": [
        {
          "output_type": "execute_result",
          "data": {
            "text/plain": [
              "array([25.84966629, 24.50405324, 28.19506402, ..., 24.97267663,\n",
              "       28.91534394, 23.6298533 ])"
            ]
          },
          "metadata": {},
          "execution_count": 11
        }
      ]
    },
    {
      "cell_type": "code",
      "source": [
        "waist_hip_rate1 = np.random.uniform(0.87,1.01,7610)\n",
        "waist_hip_rate2 = np.random.uniform(0.88,1.02,2390)\n",
        "waist_hip_rate = np.concatenate((waist_hip_rate1,waist_hip_rate2))\n",
        "waist_hip_rate"
      ],
      "metadata": {
        "colab": {
          "base_uri": "https://localhost:8080/"
        },
        "id": "b7zww6kujScZ",
        "outputId": "b9c71b4a-6b01-4e6e-c714-a7f6186e9cef"
      },
      "execution_count": 12,
      "outputs": [
        {
          "output_type": "execute_result",
          "data": {
            "text/plain": [
              "array([0.98181108, 0.98126257, 0.93942772, ..., 0.89257261, 0.89521418,\n",
              "       0.95261102])"
            ]
          },
          "metadata": {},
          "execution_count": 12
        }
      ]
    },
    {
      "cell_type": "code",
      "source": [
        "blood_platelet1 = np.random.uniform(156.47,294.29,7610)\n",
        "blood_platelet2 = np.random.uniform(112.42,287.86,2390)\n",
        "blood_platelet = np.concatenate((blood_platelet1,blood_platelet2))\n",
        "blood_platelet"
      ],
      "metadata": {
        "colab": {
          "base_uri": "https://localhost:8080/"
        },
        "id": "NPft4xi-jagu",
        "outputId": "39016eba-a1f4-4195-e0f5-29f0817ff657"
      },
      "execution_count": 13,
      "outputs": [
        {
          "output_type": "execute_result",
          "data": {
            "text/plain": [
              "array([255.51991077, 192.8263423 , 284.87043753, ..., 255.76708878,\n",
              "       141.8479107 , 177.25450806])"
            ]
          },
          "metadata": {},
          "execution_count": 13
        }
      ]
    },
    {
      "cell_type": "code",
      "source": [
        "hemoglobin1 = np.random.uniform(7.56,12.12,7610)\n",
        "hemoglobin2 = np.random.uniform(7.18,11.58,2390)\n",
        "hemoglobin = np.concatenate((hemoglobin1,hemoglobin2))\n",
        "hemoglobin"
      ],
      "metadata": {
        "colab": {
          "base_uri": "https://localhost:8080/"
        },
        "id": "TX9eJIhRjnP_",
        "outputId": "5c1e2cb0-9e19-4c9a-bcd8-b3a4b1758773"
      },
      "execution_count": 14,
      "outputs": [
        {
          "output_type": "execute_result",
          "data": {
            "text/plain": [
              "array([ 8.45834195,  8.04850118, 11.72290077, ...,  8.88382299,\n",
              "        7.60022767,  7.99983838])"
            ]
          },
          "metadata": {},
          "execution_count": 14
        }
      ]
    },
    {
      "cell_type": "code",
      "source": [
        "serum_creatinine1 = np.random.uniform(39.59,94.91,7610)\n",
        "serum_creatinine2 = np.random.uniform(44.24,108.18,2390)\n",
        "serum_creatinine = np.concatenate((serum_creatinine1,serum_creatinine2))\n",
        "serum_creatinine"
      ],
      "metadata": {
        "colab": {
          "base_uri": "https://localhost:8080/"
        },
        "id": "oSfkiUIijt3p",
        "outputId": "eea053ae-d998-447e-a5f3-f683588a31e5"
      },
      "execution_count": 15,
      "outputs": [
        {
          "output_type": "execute_result",
          "data": {
            "text/plain": [
              "array([ 48.52209909,  92.87020072,  46.83942472, ..., 103.1285966 ,\n",
              "        85.13581636,  92.23943065])"
            ]
          },
          "metadata": {},
          "execution_count": 15
        }
      ]
    },
    {
      "cell_type": "code",
      "source": [
        "uric_acid1 = np.random.uniform(312.95,326.53,7610)\n",
        "uric_acid2 = np.random.uniform(321.41,346.41,2390)\n",
        "uric_acid = np.concatenate((uric_acid1,uric_acid2))\n",
        "uric_acid"
      ],
      "metadata": {
        "colab": {
          "base_uri": "https://localhost:8080/"
        },
        "id": "YHrggO5mj11t",
        "outputId": "d902e846-92aa-41c1-9576-b376ad94b85f"
      },
      "execution_count": 16,
      "outputs": [
        {
          "output_type": "execute_result",
          "data": {
            "text/plain": [
              "array([323.2626845 , 321.88504643, 318.64158915, ..., 343.46961891,\n",
              "       338.92786511, 342.6169182 ])"
            ]
          },
          "metadata": {},
          "execution_count": 16
        }
      ]
    },
    {
      "cell_type": "code",
      "source": [
        "serum_triglyceride1 = np.random.uniform(1.88,2.17,7610)\n",
        "serum_triglyceride2 = np.random.uniform(1.58,1.95,2390)\n",
        "serum_triglyceride = np.concatenate((serum_triglyceride1,serum_triglyceride2))\n",
        "serum_triglyceride"
      ],
      "metadata": {
        "colab": {
          "base_uri": "https://localhost:8080/"
        },
        "id": "ZwOsJc9Dj8lQ",
        "outputId": "bf7946ad-9aa1-417b-e581-e20005f5d3e1"
      },
      "execution_count": 17,
      "outputs": [
        {
          "output_type": "execute_result",
          "data": {
            "text/plain": [
              "array([2.09090515, 1.94963633, 1.934604  , ..., 1.78715161, 1.67747099,\n",
              "       1.79649223])"
            ]
          },
          "metadata": {},
          "execution_count": 17
        }
      ]
    },
    {
      "cell_type": "code",
      "source": [
        "total_cholesterol1 = np.random.uniform(3.5,5.92,7610)\n",
        "total_cholesterol2 = np.random.uniform(2.96,5.3,2390)\n",
        "total_cholesterol = np.concatenate((total_cholesterol1,total_cholesterol2))\n",
        "total_cholesterol"
      ],
      "metadata": {
        "colab": {
          "base_uri": "https://localhost:8080/"
        },
        "id": "yQe3yHNCkE3x",
        "outputId": "1dea26b3-bcef-4cb3-e7f5-110afbd8547a"
      },
      "execution_count": 18,
      "outputs": [
        {
          "output_type": "execute_result",
          "data": {
            "text/plain": [
              "array([3.95899613, 5.04190724, 5.04441888, ..., 3.18817428, 4.63240107,\n",
              "       4.60752969])"
            ]
          },
          "metadata": {},
          "execution_count": 18
        }
      ]
    },
    {
      "cell_type": "code",
      "source": [
        "LDL_cholesterol1 = np.random.uniform(2.14,3.9,7610)\n",
        "LDL_cholesterol2 = np.random.uniform(1.7,3.44,2390)\n",
        "LDL_cholesterol = np.concatenate((LDL_cholesterol1,LDL_cholesterol2))\n",
        "LDL_cholesterol"
      ],
      "metadata": {
        "colab": {
          "base_uri": "https://localhost:8080/"
        },
        "id": "rE47FZxRkOAu",
        "outputId": "3b21ed58-8591-4e05-822b-d0598a18cc06"
      },
      "execution_count": 19,
      "outputs": [
        {
          "output_type": "execute_result",
          "data": {
            "text/plain": [
              "array([2.30663998, 2.47972106, 2.78056036, ..., 2.38643743, 2.34919113,\n",
              "       3.41632853])"
            ]
          },
          "metadata": {},
          "execution_count": 19
        }
      ]
    },
    {
      "cell_type": "code",
      "source": [
        "HDL_cholesterol1 = np.random.uniform(0.81,1.35,7610)\n",
        "HDL_cholesterol2 = np.random.uniform(0.76,1.32,2390)\n",
        "HDL_cholesterol = np.concatenate((HDL_cholesterol1,HDL_cholesterol2))\n",
        "HDL_cholesterol"
      ],
      "metadata": {
        "colab": {
          "base_uri": "https://localhost:8080/"
        },
        "id": "RC9aaet7kVJF",
        "outputId": "9d2c43e2-80df-4528-fa91-8b7b4b40b478"
      },
      "execution_count": 20,
      "outputs": [
        {
          "output_type": "execute_result",
          "data": {
            "text/plain": [
              "array([0.91595336, 0.93595468, 1.17376136, ..., 1.09762426, 0.8121341 ,\n",
              "       0.89290602])"
            ]
          },
          "metadata": {},
          "execution_count": 20
        }
      ]
    },
    {
      "cell_type": "code",
      "source": [
        "fasting_blood_glucose1 = np.random.uniform(8.78,9.38,7610)\n",
        "fasting_blood_glucose2 = np.random.uniform(8.15,9.08,2390)\n",
        "fasting_blood_glucose = np.concatenate((fasting_blood_glucose1,fasting_blood_glucose2))\n",
        "fasting_blood_glucose"
      ],
      "metadata": {
        "colab": {
          "base_uri": "https://localhost:8080/"
        },
        "id": "g7YYSfHHkdwW",
        "outputId": "9842dfc7-fa1e-4e59-a5f9-7edf6de31056"
      },
      "execution_count": 21,
      "outputs": [
        {
          "output_type": "execute_result",
          "data": {
            "text/plain": [
              "array([9.16770898, 9.07125158, 9.17094604, ..., 8.49662713, 8.9022222 ,\n",
              "       8.70920847])"
            ]
          },
          "metadata": {},
          "execution_count": 21
        }
      ]
    },
    {
      "cell_type": "code",
      "source": [
        "insulin0h1 = np.random.uniform(14.26,21.60,7610)\n",
        "insulin0h2 = np.random.uniform(18.98,40.30,2390)\n",
        "insulin0h = np.concatenate((insulin0h1,insulin0h2))\n",
        "insulin0h"
      ],
      "metadata": {
        "colab": {
          "base_uri": "https://localhost:8080/"
        },
        "id": "sR7MdGioklQU",
        "outputId": "c906fdf2-5a2b-4404-8de8-0753ce89ba68"
      },
      "execution_count": 22,
      "outputs": [
        {
          "output_type": "execute_result",
          "data": {
            "text/plain": [
              "array([15.42619372, 19.29881881, 16.70219583, ..., 32.58416355,\n",
              "       33.554307  , 35.61569878])"
            ]
          },
          "metadata": {},
          "execution_count": 22
        }
      ]
    },
    {
      "cell_type": "code",
      "source": [
        "insulin1h1 = np.random.uniform(53.64,64.38,7610)\n",
        "insulin1h2 = np.random.uniform(64.38,93.06,2390)\n",
        "insulin1h = np.concatenate((insulin1h1,insulin1h2))\n",
        "insulin1h"
      ],
      "metadata": {
        "colab": {
          "base_uri": "https://localhost:8080/"
        },
        "id": "gt9FHZzfktKJ",
        "outputId": "ad2fe260-e46d-40d8-d5e6-3755f9ac7a66"
      },
      "execution_count": 23,
      "outputs": [
        {
          "output_type": "execute_result",
          "data": {
            "text/plain": [
              "array([63.50483241, 59.69272704, 57.01973713, ..., 84.75116136,\n",
              "       79.24831274, 80.21157336])"
            ]
          },
          "metadata": {},
          "execution_count": 23
        }
      ]
    },
    {
      "cell_type": "code",
      "source": [
        "insulin2h1 = np.random.uniform(59.82,70.36,7610)\n",
        "insulin2h2 = np.random.uniform(69.47,100.19,2390)\n",
        "insulin2h = np.concatenate((insulin2h1,insulin2h2))\n",
        "insulin2h"
      ],
      "metadata": {
        "colab": {
          "base_uri": "https://localhost:8080/"
        },
        "id": "CdYGuU7Dk0Bi",
        "outputId": "171b9118-cd63-499f-e281-91f3180585ed"
      },
      "execution_count": 24,
      "outputs": [
        {
          "output_type": "execute_result",
          "data": {
            "text/plain": [
              "array([68.94681509, 66.70253264, 64.15081856, ..., 71.71920001,\n",
              "       92.50885612, 93.93095436])"
            ]
          },
          "metadata": {},
          "execution_count": 24
        }
      ]
    },
    {
      "cell_type": "code",
      "source": [
        "insulin3h1 = np.random.uniform(48.16,58.52,7610)\n",
        "insulin3h2 = np.random.uniform(60.06,90.87,2390)\n",
        "insulin3h = np.concatenate((insulin3h1,insulin3h2))\n",
        "insulin3h"
      ],
      "metadata": {
        "colab": {
          "base_uri": "https://localhost:8080/"
        },
        "id": "lSICO3wGk60K",
        "outputId": "bc56c8ff-4927-41c6-8f54-5350681983b4"
      },
      "execution_count": 25,
      "outputs": [
        {
          "output_type": "execute_result",
          "data": {
            "text/plain": [
              "array([53.88571219, 53.9467407 , 55.79235933, ..., 75.7531046 ,\n",
              "       73.18520917, 87.80268786])"
            ]
          },
          "metadata": {},
          "execution_count": 25
        }
      ]
    },
    {
      "cell_type": "code",
      "source": [
        "cpeptide0h1 = np.random.uniform(1.51,1.64,7610)\n",
        "cpeptide0h2 = np.random.uniform(1.68,1.95,2390)\n",
        "cpeptide0h = np.concatenate((cpeptide0h1,cpeptide0h2))\n",
        "cpeptide0h "
      ],
      "metadata": {
        "colab": {
          "base_uri": "https://localhost:8080/"
        },
        "id": "lKtHDuC6lBkz",
        "outputId": "c1914fc7-636b-4c99-e728-e89b8738d19d"
      },
      "execution_count": 26,
      "outputs": [
        {
          "output_type": "execute_result",
          "data": {
            "text/plain": [
              "array([1.57070016, 1.51177078, 1.55182683, ..., 1.88210232, 1.82509458,\n",
              "       1.89508272])"
            ]
          },
          "metadata": {},
          "execution_count": 26
        }
      ]
    },
    {
      "cell_type": "code",
      "source": [
        "cpeptide1h1 = np.random.uniform(2.63,2.88,7610)\n",
        "cpeptide1h2 = np.random.uniform(2.62,3.01,2390)\n",
        "cpeptide1h = np.concatenate((cpeptide1h1,cpeptide1h2))\n",
        "cpeptide1h"
      ],
      "metadata": {
        "colab": {
          "base_uri": "https://localhost:8080/"
        },
        "id": "AMhUo8dulHie",
        "outputId": "ef3da4b8-f394-4691-8c8b-fbe7df1f1252"
      },
      "execution_count": 27,
      "outputs": [
        {
          "output_type": "execute_result",
          "data": {
            "text/plain": [
              "array([2.72957856, 2.78738713, 2.68215521, ..., 2.66510167, 2.84813766,\n",
              "       2.91639102])"
            ]
          },
          "metadata": {},
          "execution_count": 27
        }
      ]
    },
    {
      "cell_type": "code",
      "source": [
        "cpeptide2h1 = np.random.uniform(3.94,4.33,7610)\n",
        "cpeptide2h2 = np.random.uniform(3.84,4.48,2390)\n",
        "cpeptide2h = np.concatenate((cpeptide2h1,cpeptide2h2))\n",
        "cpeptide2h"
      ],
      "metadata": {
        "colab": {
          "base_uri": "https://localhost:8080/"
        },
        "id": "9zNuAlOqlWVh",
        "outputId": "3d6838f8-7bf8-4ade-ab75-aa9f925b6a6b"
      },
      "execution_count": 28,
      "outputs": [
        {
          "output_type": "execute_result",
          "data": {
            "text/plain": [
              "array([4.19530189, 3.94396278, 4.19261618, ..., 4.02958756, 4.09551795,\n",
              "       4.36806919])"
            ]
          },
          "metadata": {},
          "execution_count": 28
        }
      ]
    },
    {
      "cell_type": "code",
      "source": [
        "cpeptide3h1 = np.random.uniform(4.05,4.44,7610)\n",
        "cpeptide3h2 = np.random.uniform(4.14,4.86,2390)\n",
        "cpeptide3h = np.concatenate((cpeptide3h1,cpeptide3h2))\n",
        "cpeptide3h"
      ],
      "metadata": {
        "colab": {
          "base_uri": "https://localhost:8080/"
        },
        "id": "0R6B3iR3lbxZ",
        "outputId": "c32f07d3-7c35-48b0-dc3d-a02826e456e9"
      },
      "execution_count": 29,
      "outputs": [
        {
          "output_type": "execute_result",
          "data": {
            "text/plain": [
              "array([4.07751409, 4.36152741, 4.29951812, ..., 4.61429217, 4.60894026,\n",
              "       4.48639562])"
            ]
          },
          "metadata": {},
          "execution_count": 29
        }
      ]
    },
    {
      "cell_type": "code",
      "source": [
        "\n",
        "label1 = np.array([0 for i in range(7610)])\n",
        "label2 = np.array([1 for i in range(2390)])\n",
        "label = np.concatenate((label1,label2))\n",
        "label\n"
      ],
      "metadata": {
        "colab": {
          "base_uri": "https://localhost:8080/"
        },
        "id": "3ggtFU2mn5G_",
        "outputId": "01fdffce-b3b3-40a4-9251-6c3311a2e8cb"
      },
      "execution_count": 30,
      "outputs": [
        {
          "output_type": "execute_result",
          "data": {
            "text/plain": [
              "array([0, 0, 0, ..., 1, 1, 1])"
            ]
          },
          "metadata": {},
          "execution_count": 30
        }
      ]
    },
    {
      "cell_type": "code",
      "source": [
        "data = pd.DataFrame()\n",
        "\n",
        "# defining the columns of the dataset\n",
        "data['gender'] = gender\n",
        "data['smokers'] = smokers\n",
        "data['drinking alcohol'] = drinking_alcohol\n",
        "data['age'] = age\n",
        "data['course of hypertension'] = course_of_hypertension\n",
        "data['course of diabetes'] = course_of_diabetes\n",
        "data['systolic pressure'] = systolic_pressure\n",
        "data['diastolic pressure'] = diastolic_pressure\n",
        "data['heartrate'] = heartrate\n",
        "data['body mass index'] = body_mass_index\n",
        "data['waist hip rate'] = waist_hip_rate\n",
        "data['blood platelet'] = blood_platelet\n",
        "data['hemoglobin'] = hemoglobin\n",
        "data['serum creatinine'] = serum_creatinine\n",
        "data['uric acid'] = uric_acid\n",
        "data['serum triglyceride'] = serum_triglyceride\n",
        "data['total cholesterol'] = total_cholesterol\n",
        "data['LDL cholesterol'] = LDL_cholesterol\n",
        "data['HDL cholesterol'] = HDL_cholesterol\n",
        "data['fasting blood glucose'] = fasting_blood_glucose\n",
        "data['insulin 0 h'] = insulin0h\n",
        "data['insulin 1 h'] = insulin1h\n",
        "data['insulin 2 h'] = insulin2h\n",
        "data['insulin 3 h'] = insulin3h\n",
        "data['c-peptide 0 h'] = cpeptide0h\n",
        "data['c-peptide 1 h'] = cpeptide1h\n",
        "data['c-peptide 2 h'] = cpeptide2h\n",
        "data['c-peptide 3 h'] = cpeptide3h\n",
        "data['label'] = label\n",
        "\n",
        "data"
      ],
      "metadata": {
        "colab": {
          "base_uri": "https://localhost:8080/",
          "height": 522
        },
        "id": "--wu7q1Vl3H2",
        "outputId": "781c6fee-4011-4293-e35b-a20d6b6f553f"
      },
      "execution_count": 31,
      "outputs": [
        {
          "output_type": "execute_result",
          "data": {
            "text/plain": [
              "      gender  smokers  drinking alcohol        age  course of hypertension  \\\n",
              "0          0        0                 0  61.460409                5.312533   \n",
              "1          1        0                 0  56.193901                5.058987   \n",
              "2          0        1                 0  49.618276                5.265489   \n",
              "3          0        0                 0  66.112048                5.293670   \n",
              "4          1        1                 0  40.392755                5.488646   \n",
              "...      ...      ...               ...        ...                     ...   \n",
              "9995       1        0                 0  70.688712               11.346265   \n",
              "9996       1        0                 0  59.966538               11.055248   \n",
              "9997       0        1                 0  64.893086                9.909822   \n",
              "9998       0        1                 0  64.760333                9.779716   \n",
              "9999       0        1                 1  56.582262                9.451810   \n",
              "\n",
              "      course of diabetes  systolic pressure  diastolic pressure  heartrate  \\\n",
              "0               7.325210         126.075207           82.334330  81.455056   \n",
              "1               7.599764         135.826508           82.322996  79.522875   \n",
              "2               7.335245         129.870579           76.122847  87.270634   \n",
              "3               7.633262         147.461545           81.503426  79.595937   \n",
              "4               7.603260         145.768080           72.060602  86.343201   \n",
              "...                  ...                ...                 ...        ...   \n",
              "9995           12.107343         123.032563           84.541481  79.095115   \n",
              "9996           11.340356         128.036693           75.681052  75.410863   \n",
              "9997           11.833287         122.437571           77.385760  84.208256   \n",
              "9998           11.740723         108.243800           73.795023  80.418132   \n",
              "9999           11.847322         148.319008           73.223392  77.098028   \n",
              "\n",
              "      body mass index  ...  fasting blood glucose  insulin 0 h  insulin 1 h  \\\n",
              "0           25.849666  ...               9.167709    15.426194    63.504832   \n",
              "1           24.504053  ...               9.071252    19.298819    59.692727   \n",
              "2           28.195064  ...               9.170946    16.702196    57.019737   \n",
              "3           29.310285  ...               9.044220    20.948583    60.506276   \n",
              "4           27.897819  ...               9.011310    15.606109    61.102153   \n",
              "...               ...  ...                    ...          ...          ...   \n",
              "9995        24.703802  ...               8.174999    36.831668    76.363251   \n",
              "9996        28.776875  ...               8.359785    39.704079    82.206952   \n",
              "9997        24.972677  ...               8.496627    32.584164    84.751161   \n",
              "9998        28.915344  ...               8.902222    33.554307    79.248313   \n",
              "9999        23.629853  ...               8.709208    35.615699    80.211573   \n",
              "\n",
              "      insulin 2 h  insulin 3 h  c-peptide 0 h  c-peptide 1 h  c-peptide 2 h  \\\n",
              "0       68.946815    53.885712       1.570700       2.729579       4.195302   \n",
              "1       66.702533    53.946741       1.511771       2.787387       3.943963   \n",
              "2       64.150819    55.792359       1.551827       2.682155       4.192616   \n",
              "3       64.352533    54.508277       1.633631       2.681531       4.049705   \n",
              "4       66.415967    56.568484       1.565710       2.687178       4.291213   \n",
              "...           ...          ...            ...            ...            ...   \n",
              "9995    81.500043    75.607195       1.904162       2.863141       4.100613   \n",
              "9996    93.910309    80.573813       1.872065       2.705064       4.028484   \n",
              "9997    71.719200    75.753105       1.882102       2.665102       4.029588   \n",
              "9998    92.508856    73.185209       1.825095       2.848138       4.095518   \n",
              "9999    93.930954    87.802688       1.895083       2.916391       4.368069   \n",
              "\n",
              "      c-peptide 3 h  label  \n",
              "0          4.077514      0  \n",
              "1          4.361527      0  \n",
              "2          4.299518      0  \n",
              "3          4.159086      0  \n",
              "4          4.377429      0  \n",
              "...             ...    ...  \n",
              "9995       4.748569      1  \n",
              "9996       4.717235      1  \n",
              "9997       4.614292      1  \n",
              "9998       4.608940      1  \n",
              "9999       4.486396      1  \n",
              "\n",
              "[10000 rows x 29 columns]"
            ],
            "text/html": [
              "\n",
              "  <div id=\"df-7f434256-daa6-4ffe-9826-7b0d9887974e\">\n",
              "    <div class=\"colab-df-container\">\n",
              "      <div>\n",
              "<style scoped>\n",
              "    .dataframe tbody tr th:only-of-type {\n",
              "        vertical-align: middle;\n",
              "    }\n",
              "\n",
              "    .dataframe tbody tr th {\n",
              "        vertical-align: top;\n",
              "    }\n",
              "\n",
              "    .dataframe thead th {\n",
              "        text-align: right;\n",
              "    }\n",
              "</style>\n",
              "<table border=\"1\" class=\"dataframe\">\n",
              "  <thead>\n",
              "    <tr style=\"text-align: right;\">\n",
              "      <th></th>\n",
              "      <th>gender</th>\n",
              "      <th>smokers</th>\n",
              "      <th>drinking alcohol</th>\n",
              "      <th>age</th>\n",
              "      <th>course of hypertension</th>\n",
              "      <th>course of diabetes</th>\n",
              "      <th>systolic pressure</th>\n",
              "      <th>diastolic pressure</th>\n",
              "      <th>heartrate</th>\n",
              "      <th>body mass index</th>\n",
              "      <th>...</th>\n",
              "      <th>fasting blood glucose</th>\n",
              "      <th>insulin 0 h</th>\n",
              "      <th>insulin 1 h</th>\n",
              "      <th>insulin 2 h</th>\n",
              "      <th>insulin 3 h</th>\n",
              "      <th>c-peptide 0 h</th>\n",
              "      <th>c-peptide 1 h</th>\n",
              "      <th>c-peptide 2 h</th>\n",
              "      <th>c-peptide 3 h</th>\n",
              "      <th>label</th>\n",
              "    </tr>\n",
              "  </thead>\n",
              "  <tbody>\n",
              "    <tr>\n",
              "      <th>0</th>\n",
              "      <td>0</td>\n",
              "      <td>0</td>\n",
              "      <td>0</td>\n",
              "      <td>61.460409</td>\n",
              "      <td>5.312533</td>\n",
              "      <td>7.325210</td>\n",
              "      <td>126.075207</td>\n",
              "      <td>82.334330</td>\n",
              "      <td>81.455056</td>\n",
              "      <td>25.849666</td>\n",
              "      <td>...</td>\n",
              "      <td>9.167709</td>\n",
              "      <td>15.426194</td>\n",
              "      <td>63.504832</td>\n",
              "      <td>68.946815</td>\n",
              "      <td>53.885712</td>\n",
              "      <td>1.570700</td>\n",
              "      <td>2.729579</td>\n",
              "      <td>4.195302</td>\n",
              "      <td>4.077514</td>\n",
              "      <td>0</td>\n",
              "    </tr>\n",
              "    <tr>\n",
              "      <th>1</th>\n",
              "      <td>1</td>\n",
              "      <td>0</td>\n",
              "      <td>0</td>\n",
              "      <td>56.193901</td>\n",
              "      <td>5.058987</td>\n",
              "      <td>7.599764</td>\n",
              "      <td>135.826508</td>\n",
              "      <td>82.322996</td>\n",
              "      <td>79.522875</td>\n",
              "      <td>24.504053</td>\n",
              "      <td>...</td>\n",
              "      <td>9.071252</td>\n",
              "      <td>19.298819</td>\n",
              "      <td>59.692727</td>\n",
              "      <td>66.702533</td>\n",
              "      <td>53.946741</td>\n",
              "      <td>1.511771</td>\n",
              "      <td>2.787387</td>\n",
              "      <td>3.943963</td>\n",
              "      <td>4.361527</td>\n",
              "      <td>0</td>\n",
              "    </tr>\n",
              "    <tr>\n",
              "      <th>2</th>\n",
              "      <td>0</td>\n",
              "      <td>1</td>\n",
              "      <td>0</td>\n",
              "      <td>49.618276</td>\n",
              "      <td>5.265489</td>\n",
              "      <td>7.335245</td>\n",
              "      <td>129.870579</td>\n",
              "      <td>76.122847</td>\n",
              "      <td>87.270634</td>\n",
              "      <td>28.195064</td>\n",
              "      <td>...</td>\n",
              "      <td>9.170946</td>\n",
              "      <td>16.702196</td>\n",
              "      <td>57.019737</td>\n",
              "      <td>64.150819</td>\n",
              "      <td>55.792359</td>\n",
              "      <td>1.551827</td>\n",
              "      <td>2.682155</td>\n",
              "      <td>4.192616</td>\n",
              "      <td>4.299518</td>\n",
              "      <td>0</td>\n",
              "    </tr>\n",
              "    <tr>\n",
              "      <th>3</th>\n",
              "      <td>0</td>\n",
              "      <td>0</td>\n",
              "      <td>0</td>\n",
              "      <td>66.112048</td>\n",
              "      <td>5.293670</td>\n",
              "      <td>7.633262</td>\n",
              "      <td>147.461545</td>\n",
              "      <td>81.503426</td>\n",
              "      <td>79.595937</td>\n",
              "      <td>29.310285</td>\n",
              "      <td>...</td>\n",
              "      <td>9.044220</td>\n",
              "      <td>20.948583</td>\n",
              "      <td>60.506276</td>\n",
              "      <td>64.352533</td>\n",
              "      <td>54.508277</td>\n",
              "      <td>1.633631</td>\n",
              "      <td>2.681531</td>\n",
              "      <td>4.049705</td>\n",
              "      <td>4.159086</td>\n",
              "      <td>0</td>\n",
              "    </tr>\n",
              "    <tr>\n",
              "      <th>4</th>\n",
              "      <td>1</td>\n",
              "      <td>1</td>\n",
              "      <td>0</td>\n",
              "      <td>40.392755</td>\n",
              "      <td>5.488646</td>\n",
              "      <td>7.603260</td>\n",
              "      <td>145.768080</td>\n",
              "      <td>72.060602</td>\n",
              "      <td>86.343201</td>\n",
              "      <td>27.897819</td>\n",
              "      <td>...</td>\n",
              "      <td>9.011310</td>\n",
              "      <td>15.606109</td>\n",
              "      <td>61.102153</td>\n",
              "      <td>66.415967</td>\n",
              "      <td>56.568484</td>\n",
              "      <td>1.565710</td>\n",
              "      <td>2.687178</td>\n",
              "      <td>4.291213</td>\n",
              "      <td>4.377429</td>\n",
              "      <td>0</td>\n",
              "    </tr>\n",
              "    <tr>\n",
              "      <th>...</th>\n",
              "      <td>...</td>\n",
              "      <td>...</td>\n",
              "      <td>...</td>\n",
              "      <td>...</td>\n",
              "      <td>...</td>\n",
              "      <td>...</td>\n",
              "      <td>...</td>\n",
              "      <td>...</td>\n",
              "      <td>...</td>\n",
              "      <td>...</td>\n",
              "      <td>...</td>\n",
              "      <td>...</td>\n",
              "      <td>...</td>\n",
              "      <td>...</td>\n",
              "      <td>...</td>\n",
              "      <td>...</td>\n",
              "      <td>...</td>\n",
              "      <td>...</td>\n",
              "      <td>...</td>\n",
              "      <td>...</td>\n",
              "      <td>...</td>\n",
              "    </tr>\n",
              "    <tr>\n",
              "      <th>9995</th>\n",
              "      <td>1</td>\n",
              "      <td>0</td>\n",
              "      <td>0</td>\n",
              "      <td>70.688712</td>\n",
              "      <td>11.346265</td>\n",
              "      <td>12.107343</td>\n",
              "      <td>123.032563</td>\n",
              "      <td>84.541481</td>\n",
              "      <td>79.095115</td>\n",
              "      <td>24.703802</td>\n",
              "      <td>...</td>\n",
              "      <td>8.174999</td>\n",
              "      <td>36.831668</td>\n",
              "      <td>76.363251</td>\n",
              "      <td>81.500043</td>\n",
              "      <td>75.607195</td>\n",
              "      <td>1.904162</td>\n",
              "      <td>2.863141</td>\n",
              "      <td>4.100613</td>\n",
              "      <td>4.748569</td>\n",
              "      <td>1</td>\n",
              "    </tr>\n",
              "    <tr>\n",
              "      <th>9996</th>\n",
              "      <td>1</td>\n",
              "      <td>0</td>\n",
              "      <td>0</td>\n",
              "      <td>59.966538</td>\n",
              "      <td>11.055248</td>\n",
              "      <td>11.340356</td>\n",
              "      <td>128.036693</td>\n",
              "      <td>75.681052</td>\n",
              "      <td>75.410863</td>\n",
              "      <td>28.776875</td>\n",
              "      <td>...</td>\n",
              "      <td>8.359785</td>\n",
              "      <td>39.704079</td>\n",
              "      <td>82.206952</td>\n",
              "      <td>93.910309</td>\n",
              "      <td>80.573813</td>\n",
              "      <td>1.872065</td>\n",
              "      <td>2.705064</td>\n",
              "      <td>4.028484</td>\n",
              "      <td>4.717235</td>\n",
              "      <td>1</td>\n",
              "    </tr>\n",
              "    <tr>\n",
              "      <th>9997</th>\n",
              "      <td>0</td>\n",
              "      <td>1</td>\n",
              "      <td>0</td>\n",
              "      <td>64.893086</td>\n",
              "      <td>9.909822</td>\n",
              "      <td>11.833287</td>\n",
              "      <td>122.437571</td>\n",
              "      <td>77.385760</td>\n",
              "      <td>84.208256</td>\n",
              "      <td>24.972677</td>\n",
              "      <td>...</td>\n",
              "      <td>8.496627</td>\n",
              "      <td>32.584164</td>\n",
              "      <td>84.751161</td>\n",
              "      <td>71.719200</td>\n",
              "      <td>75.753105</td>\n",
              "      <td>1.882102</td>\n",
              "      <td>2.665102</td>\n",
              "      <td>4.029588</td>\n",
              "      <td>4.614292</td>\n",
              "      <td>1</td>\n",
              "    </tr>\n",
              "    <tr>\n",
              "      <th>9998</th>\n",
              "      <td>0</td>\n",
              "      <td>1</td>\n",
              "      <td>0</td>\n",
              "      <td>64.760333</td>\n",
              "      <td>9.779716</td>\n",
              "      <td>11.740723</td>\n",
              "      <td>108.243800</td>\n",
              "      <td>73.795023</td>\n",
              "      <td>80.418132</td>\n",
              "      <td>28.915344</td>\n",
              "      <td>...</td>\n",
              "      <td>8.902222</td>\n",
              "      <td>33.554307</td>\n",
              "      <td>79.248313</td>\n",
              "      <td>92.508856</td>\n",
              "      <td>73.185209</td>\n",
              "      <td>1.825095</td>\n",
              "      <td>2.848138</td>\n",
              "      <td>4.095518</td>\n",
              "      <td>4.608940</td>\n",
              "      <td>1</td>\n",
              "    </tr>\n",
              "    <tr>\n",
              "      <th>9999</th>\n",
              "      <td>0</td>\n",
              "      <td>1</td>\n",
              "      <td>1</td>\n",
              "      <td>56.582262</td>\n",
              "      <td>9.451810</td>\n",
              "      <td>11.847322</td>\n",
              "      <td>148.319008</td>\n",
              "      <td>73.223392</td>\n",
              "      <td>77.098028</td>\n",
              "      <td>23.629853</td>\n",
              "      <td>...</td>\n",
              "      <td>8.709208</td>\n",
              "      <td>35.615699</td>\n",
              "      <td>80.211573</td>\n",
              "      <td>93.930954</td>\n",
              "      <td>87.802688</td>\n",
              "      <td>1.895083</td>\n",
              "      <td>2.916391</td>\n",
              "      <td>4.368069</td>\n",
              "      <td>4.486396</td>\n",
              "      <td>1</td>\n",
              "    </tr>\n",
              "  </tbody>\n",
              "</table>\n",
              "<p>10000 rows × 29 columns</p>\n",
              "</div>\n",
              "      <button class=\"colab-df-convert\" onclick=\"convertToInteractive('df-7f434256-daa6-4ffe-9826-7b0d9887974e')\"\n",
              "              title=\"Convert this dataframe to an interactive table.\"\n",
              "              style=\"display:none;\">\n",
              "        \n",
              "  <svg xmlns=\"http://www.w3.org/2000/svg\" height=\"24px\"viewBox=\"0 0 24 24\"\n",
              "       width=\"24px\">\n",
              "    <path d=\"M0 0h24v24H0V0z\" fill=\"none\"/>\n",
              "    <path d=\"M18.56 5.44l.94 2.06.94-2.06 2.06-.94-2.06-.94-.94-2.06-.94 2.06-2.06.94zm-11 1L8.5 8.5l.94-2.06 2.06-.94-2.06-.94L8.5 2.5l-.94 2.06-2.06.94zm10 10l.94 2.06.94-2.06 2.06-.94-2.06-.94-.94-2.06-.94 2.06-2.06.94z\"/><path d=\"M17.41 7.96l-1.37-1.37c-.4-.4-.92-.59-1.43-.59-.52 0-1.04.2-1.43.59L10.3 9.45l-7.72 7.72c-.78.78-.78 2.05 0 2.83L4 21.41c.39.39.9.59 1.41.59.51 0 1.02-.2 1.41-.59l7.78-7.78 2.81-2.81c.8-.78.8-2.07 0-2.86zM5.41 20L4 18.59l7.72-7.72 1.47 1.35L5.41 20z\"/>\n",
              "  </svg>\n",
              "      </button>\n",
              "      \n",
              "  <style>\n",
              "    .colab-df-container {\n",
              "      display:flex;\n",
              "      flex-wrap:wrap;\n",
              "      gap: 12px;\n",
              "    }\n",
              "\n",
              "    .colab-df-convert {\n",
              "      background-color: #E8F0FE;\n",
              "      border: none;\n",
              "      border-radius: 50%;\n",
              "      cursor: pointer;\n",
              "      display: none;\n",
              "      fill: #1967D2;\n",
              "      height: 32px;\n",
              "      padding: 0 0 0 0;\n",
              "      width: 32px;\n",
              "    }\n",
              "\n",
              "    .colab-df-convert:hover {\n",
              "      background-color: #E2EBFA;\n",
              "      box-shadow: 0px 1px 2px rgba(60, 64, 67, 0.3), 0px 1px 3px 1px rgba(60, 64, 67, 0.15);\n",
              "      fill: #174EA6;\n",
              "    }\n",
              "\n",
              "    [theme=dark] .colab-df-convert {\n",
              "      background-color: #3B4455;\n",
              "      fill: #D2E3FC;\n",
              "    }\n",
              "\n",
              "    [theme=dark] .colab-df-convert:hover {\n",
              "      background-color: #434B5C;\n",
              "      box-shadow: 0px 1px 3px 1px rgba(0, 0, 0, 0.15);\n",
              "      filter: drop-shadow(0px 1px 2px rgba(0, 0, 0, 0.3));\n",
              "      fill: #FFFFFF;\n",
              "    }\n",
              "  </style>\n",
              "\n",
              "      <script>\n",
              "        const buttonEl =\n",
              "          document.querySelector('#df-7f434256-daa6-4ffe-9826-7b0d9887974e button.colab-df-convert');\n",
              "        buttonEl.style.display =\n",
              "          google.colab.kernel.accessAllowed ? 'block' : 'none';\n",
              "\n",
              "        async function convertToInteractive(key) {\n",
              "          const element = document.querySelector('#df-7f434256-daa6-4ffe-9826-7b0d9887974e');\n",
              "          const dataTable =\n",
              "            await google.colab.kernel.invokeFunction('convertToInteractive',\n",
              "                                                     [key], {});\n",
              "          if (!dataTable) return;\n",
              "\n",
              "          const docLinkHtml = 'Like what you see? Visit the ' +\n",
              "            '<a target=\"_blank\" href=https://colab.research.google.com/notebooks/data_table.ipynb>data table notebook</a>'\n",
              "            + ' to learn more about interactive tables.';\n",
              "          element.innerHTML = '';\n",
              "          dataTable['output_type'] = 'display_data';\n",
              "          await google.colab.output.renderOutput(dataTable, element);\n",
              "          const docLink = document.createElement('div');\n",
              "          docLink.innerHTML = docLinkHtml;\n",
              "          element.appendChild(docLink);\n",
              "        }\n",
              "      </script>\n",
              "    </div>\n",
              "  </div>\n",
              "  "
            ]
          },
          "metadata": {},
          "execution_count": 31
        }
      ]
    },
    {
      "cell_type": "code",
      "source": [
        "cardio_data = data.sample(frac=1)\n",
        "cardio_data.reset_index(inplace= True, drop = True)\n",
        "cardio_data"
      ],
      "metadata": {
        "colab": {
          "base_uri": "https://localhost:8080/",
          "height": 522
        },
        "id": "aq0Xbnxn4zo3",
        "outputId": "7526e416-e6da-44d6-ba8d-4c001de4d181"
      },
      "execution_count": 32,
      "outputs": [
        {
          "output_type": "execute_result",
          "data": {
            "text/plain": [
              "      gender  smokers  drinking alcohol        age  course of hypertension  \\\n",
              "0          1        0                 0  41.554169                5.885118   \n",
              "1          0        0                 0  52.128990                5.197976   \n",
              "2          1        1                 1  65.992345                5.112596   \n",
              "3          1        0                 1  48.291986                5.574803   \n",
              "4          0        1                 0  56.768217                9.558070   \n",
              "...      ...      ...               ...        ...                     ...   \n",
              "9995       1        1                 0  42.593137                5.474118   \n",
              "9996       0        0                 0  55.707294                5.808160   \n",
              "9997       0        1                 0  41.910351                5.040293   \n",
              "9998       0        0                 0  41.961436                4.952439   \n",
              "9999       1        0                 0  72.603701               10.237668   \n",
              "\n",
              "      course of diabetes  systolic pressure  diastolic pressure  heartrate  \\\n",
              "0               7.554532         124.435193           82.968678  94.592925   \n",
              "1               7.452325         132.893036           70.505069  71.146863   \n",
              "2               7.505223         113.935751           71.001220  90.599790   \n",
              "3               7.452598         137.792496           74.295426  89.378551   \n",
              "4              10.553221         113.974594           77.533520  78.651623   \n",
              "...                  ...                ...                 ...        ...   \n",
              "9995            7.347942         133.946049           67.143215  84.113746   \n",
              "9996            7.232560         123.906569           75.981684  76.194455   \n",
              "9997            7.581940         141.336211           81.184474  86.575614   \n",
              "9998            7.345690         121.858153           68.831109  71.232712   \n",
              "9999           10.395732         116.958241           82.344533  70.679105   \n",
              "\n",
              "      body mass index  ...  fasting blood glucose  insulin 0 h  insulin 1 h  \\\n",
              "0           27.052989  ...               9.055292    17.036725    57.161556   \n",
              "1           30.128089  ...               9.125392    18.430249    62.720307   \n",
              "2           26.822461  ...               9.024769    17.848891    60.362387   \n",
              "3           28.373655  ...               8.838971    15.665235    63.419291   \n",
              "4           29.048602  ...               8.953390    27.643796    75.443893   \n",
              "...               ...  ...                    ...          ...          ...   \n",
              "9995        28.315942  ...               9.043462    14.943343    63.400202   \n",
              "9996        25.576598  ...               9.163206    18.016206    56.873040   \n",
              "9997        29.534924  ...               9.193006    18.122095    55.237473   \n",
              "9998        25.249868  ...               9.048312    16.090797    55.480089   \n",
              "9999        28.164003  ...               8.421821    33.594529    69.447276   \n",
              "\n",
              "      insulin 2 h  insulin 3 h  c-peptide 0 h  c-peptide 1 h  c-peptide 2 h  \\\n",
              "0       68.628304    48.211728       1.550686       2.847640       4.125536   \n",
              "1       65.165295    57.530178       1.575297       2.749015       3.974679   \n",
              "2       62.828340    51.173314       1.565908       2.720375       3.970204   \n",
              "3       68.646028    48.390209       1.574326       2.786001       4.271198   \n",
              "4       94.247108    80.564488       1.815454       2.954379       3.897618   \n",
              "...           ...          ...            ...            ...            ...   \n",
              "9995    68.319428    56.541290       1.618079       2.649991       4.207132   \n",
              "9996    70.064167    50.492185       1.552809       2.633352       4.147641   \n",
              "9997    66.087097    52.616498       1.632571       2.760102       3.983381   \n",
              "9998    66.770973    52.846916       1.556106       2.756941       4.065636   \n",
              "9999    70.653025    61.701673       1.684010       2.851852       3.912513   \n",
              "\n",
              "      c-peptide 3 h  label  \n",
              "0          4.263660      0  \n",
              "1          4.129286      0  \n",
              "2          4.217797      0  \n",
              "3          4.237962      0  \n",
              "4          4.638664      1  \n",
              "...             ...    ...  \n",
              "9995       4.398304      0  \n",
              "9996       4.273098      0  \n",
              "9997       4.409607      0  \n",
              "9998       4.067273      0  \n",
              "9999       4.603498      1  \n",
              "\n",
              "[10000 rows x 29 columns]"
            ],
            "text/html": [
              "\n",
              "  <div id=\"df-89544700-41de-41b3-a503-140ae3d803b3\">\n",
              "    <div class=\"colab-df-container\">\n",
              "      <div>\n",
              "<style scoped>\n",
              "    .dataframe tbody tr th:only-of-type {\n",
              "        vertical-align: middle;\n",
              "    }\n",
              "\n",
              "    .dataframe tbody tr th {\n",
              "        vertical-align: top;\n",
              "    }\n",
              "\n",
              "    .dataframe thead th {\n",
              "        text-align: right;\n",
              "    }\n",
              "</style>\n",
              "<table border=\"1\" class=\"dataframe\">\n",
              "  <thead>\n",
              "    <tr style=\"text-align: right;\">\n",
              "      <th></th>\n",
              "      <th>gender</th>\n",
              "      <th>smokers</th>\n",
              "      <th>drinking alcohol</th>\n",
              "      <th>age</th>\n",
              "      <th>course of hypertension</th>\n",
              "      <th>course of diabetes</th>\n",
              "      <th>systolic pressure</th>\n",
              "      <th>diastolic pressure</th>\n",
              "      <th>heartrate</th>\n",
              "      <th>body mass index</th>\n",
              "      <th>...</th>\n",
              "      <th>fasting blood glucose</th>\n",
              "      <th>insulin 0 h</th>\n",
              "      <th>insulin 1 h</th>\n",
              "      <th>insulin 2 h</th>\n",
              "      <th>insulin 3 h</th>\n",
              "      <th>c-peptide 0 h</th>\n",
              "      <th>c-peptide 1 h</th>\n",
              "      <th>c-peptide 2 h</th>\n",
              "      <th>c-peptide 3 h</th>\n",
              "      <th>label</th>\n",
              "    </tr>\n",
              "  </thead>\n",
              "  <tbody>\n",
              "    <tr>\n",
              "      <th>0</th>\n",
              "      <td>1</td>\n",
              "      <td>0</td>\n",
              "      <td>0</td>\n",
              "      <td>41.554169</td>\n",
              "      <td>5.885118</td>\n",
              "      <td>7.554532</td>\n",
              "      <td>124.435193</td>\n",
              "      <td>82.968678</td>\n",
              "      <td>94.592925</td>\n",
              "      <td>27.052989</td>\n",
              "      <td>...</td>\n",
              "      <td>9.055292</td>\n",
              "      <td>17.036725</td>\n",
              "      <td>57.161556</td>\n",
              "      <td>68.628304</td>\n",
              "      <td>48.211728</td>\n",
              "      <td>1.550686</td>\n",
              "      <td>2.847640</td>\n",
              "      <td>4.125536</td>\n",
              "      <td>4.263660</td>\n",
              "      <td>0</td>\n",
              "    </tr>\n",
              "    <tr>\n",
              "      <th>1</th>\n",
              "      <td>0</td>\n",
              "      <td>0</td>\n",
              "      <td>0</td>\n",
              "      <td>52.128990</td>\n",
              "      <td>5.197976</td>\n",
              "      <td>7.452325</td>\n",
              "      <td>132.893036</td>\n",
              "      <td>70.505069</td>\n",
              "      <td>71.146863</td>\n",
              "      <td>30.128089</td>\n",
              "      <td>...</td>\n",
              "      <td>9.125392</td>\n",
              "      <td>18.430249</td>\n",
              "      <td>62.720307</td>\n",
              "      <td>65.165295</td>\n",
              "      <td>57.530178</td>\n",
              "      <td>1.575297</td>\n",
              "      <td>2.749015</td>\n",
              "      <td>3.974679</td>\n",
              "      <td>4.129286</td>\n",
              "      <td>0</td>\n",
              "    </tr>\n",
              "    <tr>\n",
              "      <th>2</th>\n",
              "      <td>1</td>\n",
              "      <td>1</td>\n",
              "      <td>1</td>\n",
              "      <td>65.992345</td>\n",
              "      <td>5.112596</td>\n",
              "      <td>7.505223</td>\n",
              "      <td>113.935751</td>\n",
              "      <td>71.001220</td>\n",
              "      <td>90.599790</td>\n",
              "      <td>26.822461</td>\n",
              "      <td>...</td>\n",
              "      <td>9.024769</td>\n",
              "      <td>17.848891</td>\n",
              "      <td>60.362387</td>\n",
              "      <td>62.828340</td>\n",
              "      <td>51.173314</td>\n",
              "      <td>1.565908</td>\n",
              "      <td>2.720375</td>\n",
              "      <td>3.970204</td>\n",
              "      <td>4.217797</td>\n",
              "      <td>0</td>\n",
              "    </tr>\n",
              "    <tr>\n",
              "      <th>3</th>\n",
              "      <td>1</td>\n",
              "      <td>0</td>\n",
              "      <td>1</td>\n",
              "      <td>48.291986</td>\n",
              "      <td>5.574803</td>\n",
              "      <td>7.452598</td>\n",
              "      <td>137.792496</td>\n",
              "      <td>74.295426</td>\n",
              "      <td>89.378551</td>\n",
              "      <td>28.373655</td>\n",
              "      <td>...</td>\n",
              "      <td>8.838971</td>\n",
              "      <td>15.665235</td>\n",
              "      <td>63.419291</td>\n",
              "      <td>68.646028</td>\n",
              "      <td>48.390209</td>\n",
              "      <td>1.574326</td>\n",
              "      <td>2.786001</td>\n",
              "      <td>4.271198</td>\n",
              "      <td>4.237962</td>\n",
              "      <td>0</td>\n",
              "    </tr>\n",
              "    <tr>\n",
              "      <th>4</th>\n",
              "      <td>0</td>\n",
              "      <td>1</td>\n",
              "      <td>0</td>\n",
              "      <td>56.768217</td>\n",
              "      <td>9.558070</td>\n",
              "      <td>10.553221</td>\n",
              "      <td>113.974594</td>\n",
              "      <td>77.533520</td>\n",
              "      <td>78.651623</td>\n",
              "      <td>29.048602</td>\n",
              "      <td>...</td>\n",
              "      <td>8.953390</td>\n",
              "      <td>27.643796</td>\n",
              "      <td>75.443893</td>\n",
              "      <td>94.247108</td>\n",
              "      <td>80.564488</td>\n",
              "      <td>1.815454</td>\n",
              "      <td>2.954379</td>\n",
              "      <td>3.897618</td>\n",
              "      <td>4.638664</td>\n",
              "      <td>1</td>\n",
              "    </tr>\n",
              "    <tr>\n",
              "      <th>...</th>\n",
              "      <td>...</td>\n",
              "      <td>...</td>\n",
              "      <td>...</td>\n",
              "      <td>...</td>\n",
              "      <td>...</td>\n",
              "      <td>...</td>\n",
              "      <td>...</td>\n",
              "      <td>...</td>\n",
              "      <td>...</td>\n",
              "      <td>...</td>\n",
              "      <td>...</td>\n",
              "      <td>...</td>\n",
              "      <td>...</td>\n",
              "      <td>...</td>\n",
              "      <td>...</td>\n",
              "      <td>...</td>\n",
              "      <td>...</td>\n",
              "      <td>...</td>\n",
              "      <td>...</td>\n",
              "      <td>...</td>\n",
              "      <td>...</td>\n",
              "    </tr>\n",
              "    <tr>\n",
              "      <th>9995</th>\n",
              "      <td>1</td>\n",
              "      <td>1</td>\n",
              "      <td>0</td>\n",
              "      <td>42.593137</td>\n",
              "      <td>5.474118</td>\n",
              "      <td>7.347942</td>\n",
              "      <td>133.946049</td>\n",
              "      <td>67.143215</td>\n",
              "      <td>84.113746</td>\n",
              "      <td>28.315942</td>\n",
              "      <td>...</td>\n",
              "      <td>9.043462</td>\n",
              "      <td>14.943343</td>\n",
              "      <td>63.400202</td>\n",
              "      <td>68.319428</td>\n",
              "      <td>56.541290</td>\n",
              "      <td>1.618079</td>\n",
              "      <td>2.649991</td>\n",
              "      <td>4.207132</td>\n",
              "      <td>4.398304</td>\n",
              "      <td>0</td>\n",
              "    </tr>\n",
              "    <tr>\n",
              "      <th>9996</th>\n",
              "      <td>0</td>\n",
              "      <td>0</td>\n",
              "      <td>0</td>\n",
              "      <td>55.707294</td>\n",
              "      <td>5.808160</td>\n",
              "      <td>7.232560</td>\n",
              "      <td>123.906569</td>\n",
              "      <td>75.981684</td>\n",
              "      <td>76.194455</td>\n",
              "      <td>25.576598</td>\n",
              "      <td>...</td>\n",
              "      <td>9.163206</td>\n",
              "      <td>18.016206</td>\n",
              "      <td>56.873040</td>\n",
              "      <td>70.064167</td>\n",
              "      <td>50.492185</td>\n",
              "      <td>1.552809</td>\n",
              "      <td>2.633352</td>\n",
              "      <td>4.147641</td>\n",
              "      <td>4.273098</td>\n",
              "      <td>0</td>\n",
              "    </tr>\n",
              "    <tr>\n",
              "      <th>9997</th>\n",
              "      <td>0</td>\n",
              "      <td>1</td>\n",
              "      <td>0</td>\n",
              "      <td>41.910351</td>\n",
              "      <td>5.040293</td>\n",
              "      <td>7.581940</td>\n",
              "      <td>141.336211</td>\n",
              "      <td>81.184474</td>\n",
              "      <td>86.575614</td>\n",
              "      <td>29.534924</td>\n",
              "      <td>...</td>\n",
              "      <td>9.193006</td>\n",
              "      <td>18.122095</td>\n",
              "      <td>55.237473</td>\n",
              "      <td>66.087097</td>\n",
              "      <td>52.616498</td>\n",
              "      <td>1.632571</td>\n",
              "      <td>2.760102</td>\n",
              "      <td>3.983381</td>\n",
              "      <td>4.409607</td>\n",
              "      <td>0</td>\n",
              "    </tr>\n",
              "    <tr>\n",
              "      <th>9998</th>\n",
              "      <td>0</td>\n",
              "      <td>0</td>\n",
              "      <td>0</td>\n",
              "      <td>41.961436</td>\n",
              "      <td>4.952439</td>\n",
              "      <td>7.345690</td>\n",
              "      <td>121.858153</td>\n",
              "      <td>68.831109</td>\n",
              "      <td>71.232712</td>\n",
              "      <td>25.249868</td>\n",
              "      <td>...</td>\n",
              "      <td>9.048312</td>\n",
              "      <td>16.090797</td>\n",
              "      <td>55.480089</td>\n",
              "      <td>66.770973</td>\n",
              "      <td>52.846916</td>\n",
              "      <td>1.556106</td>\n",
              "      <td>2.756941</td>\n",
              "      <td>4.065636</td>\n",
              "      <td>4.067273</td>\n",
              "      <td>0</td>\n",
              "    </tr>\n",
              "    <tr>\n",
              "      <th>9999</th>\n",
              "      <td>1</td>\n",
              "      <td>0</td>\n",
              "      <td>0</td>\n",
              "      <td>72.603701</td>\n",
              "      <td>10.237668</td>\n",
              "      <td>10.395732</td>\n",
              "      <td>116.958241</td>\n",
              "      <td>82.344533</td>\n",
              "      <td>70.679105</td>\n",
              "      <td>28.164003</td>\n",
              "      <td>...</td>\n",
              "      <td>8.421821</td>\n",
              "      <td>33.594529</td>\n",
              "      <td>69.447276</td>\n",
              "      <td>70.653025</td>\n",
              "      <td>61.701673</td>\n",
              "      <td>1.684010</td>\n",
              "      <td>2.851852</td>\n",
              "      <td>3.912513</td>\n",
              "      <td>4.603498</td>\n",
              "      <td>1</td>\n",
              "    </tr>\n",
              "  </tbody>\n",
              "</table>\n",
              "<p>10000 rows × 29 columns</p>\n",
              "</div>\n",
              "      <button class=\"colab-df-convert\" onclick=\"convertToInteractive('df-89544700-41de-41b3-a503-140ae3d803b3')\"\n",
              "              title=\"Convert this dataframe to an interactive table.\"\n",
              "              style=\"display:none;\">\n",
              "        \n",
              "  <svg xmlns=\"http://www.w3.org/2000/svg\" height=\"24px\"viewBox=\"0 0 24 24\"\n",
              "       width=\"24px\">\n",
              "    <path d=\"M0 0h24v24H0V0z\" fill=\"none\"/>\n",
              "    <path d=\"M18.56 5.44l.94 2.06.94-2.06 2.06-.94-2.06-.94-.94-2.06-.94 2.06-2.06.94zm-11 1L8.5 8.5l.94-2.06 2.06-.94-2.06-.94L8.5 2.5l-.94 2.06-2.06.94zm10 10l.94 2.06.94-2.06 2.06-.94-2.06-.94-.94-2.06-.94 2.06-2.06.94z\"/><path d=\"M17.41 7.96l-1.37-1.37c-.4-.4-.92-.59-1.43-.59-.52 0-1.04.2-1.43.59L10.3 9.45l-7.72 7.72c-.78.78-.78 2.05 0 2.83L4 21.41c.39.39.9.59 1.41.59.51 0 1.02-.2 1.41-.59l7.78-7.78 2.81-2.81c.8-.78.8-2.07 0-2.86zM5.41 20L4 18.59l7.72-7.72 1.47 1.35L5.41 20z\"/>\n",
              "  </svg>\n",
              "      </button>\n",
              "      \n",
              "  <style>\n",
              "    .colab-df-container {\n",
              "      display:flex;\n",
              "      flex-wrap:wrap;\n",
              "      gap: 12px;\n",
              "    }\n",
              "\n",
              "    .colab-df-convert {\n",
              "      background-color: #E8F0FE;\n",
              "      border: none;\n",
              "      border-radius: 50%;\n",
              "      cursor: pointer;\n",
              "      display: none;\n",
              "      fill: #1967D2;\n",
              "      height: 32px;\n",
              "      padding: 0 0 0 0;\n",
              "      width: 32px;\n",
              "    }\n",
              "\n",
              "    .colab-df-convert:hover {\n",
              "      background-color: #E2EBFA;\n",
              "      box-shadow: 0px 1px 2px rgba(60, 64, 67, 0.3), 0px 1px 3px 1px rgba(60, 64, 67, 0.15);\n",
              "      fill: #174EA6;\n",
              "    }\n",
              "\n",
              "    [theme=dark] .colab-df-convert {\n",
              "      background-color: #3B4455;\n",
              "      fill: #D2E3FC;\n",
              "    }\n",
              "\n",
              "    [theme=dark] .colab-df-convert:hover {\n",
              "      background-color: #434B5C;\n",
              "      box-shadow: 0px 1px 3px 1px rgba(0, 0, 0, 0.15);\n",
              "      filter: drop-shadow(0px 1px 2px rgba(0, 0, 0, 0.3));\n",
              "      fill: #FFFFFF;\n",
              "    }\n",
              "  </style>\n",
              "\n",
              "      <script>\n",
              "        const buttonEl =\n",
              "          document.querySelector('#df-89544700-41de-41b3-a503-140ae3d803b3 button.colab-df-convert');\n",
              "        buttonEl.style.display =\n",
              "          google.colab.kernel.accessAllowed ? 'block' : 'none';\n",
              "\n",
              "        async function convertToInteractive(key) {\n",
              "          const element = document.querySelector('#df-89544700-41de-41b3-a503-140ae3d803b3');\n",
              "          const dataTable =\n",
              "            await google.colab.kernel.invokeFunction('convertToInteractive',\n",
              "                                                     [key], {});\n",
              "          if (!dataTable) return;\n",
              "\n",
              "          const docLinkHtml = 'Like what you see? Visit the ' +\n",
              "            '<a target=\"_blank\" href=https://colab.research.google.com/notebooks/data_table.ipynb>data table notebook</a>'\n",
              "            + ' to learn more about interactive tables.';\n",
              "          element.innerHTML = '';\n",
              "          dataTable['output_type'] = 'display_data';\n",
              "          await google.colab.output.renderOutput(dataTable, element);\n",
              "          const docLink = document.createElement('div');\n",
              "          docLink.innerHTML = docLinkHtml;\n",
              "          element.appendChild(docLink);\n",
              "        }\n",
              "      </script>\n",
              "    </div>\n",
              "  </div>\n",
              "  "
            ]
          },
          "metadata": {},
          "execution_count": 32
        }
      ]
    },
    {
      "cell_type": "code",
      "source": [
        "cardio_data.to_csv('cardiovascular.csv')"
      ],
      "metadata": {
        "id": "M-0jqUM-ojOR"
      },
      "execution_count": 33,
      "outputs": []
    },
    {
      "cell_type": "code",
      "source": [
        "import pandas as pd\n",
        "cardio = pd.read_csv('/content/cardiovascular.csv')"
      ],
      "metadata": {
        "id": "3k95rDaC9SVp"
      },
      "execution_count": 34,
      "outputs": []
    },
    {
      "cell_type": "code",
      "source": [
        "from google.colab import drive\n",
        "drive.mount('/content/drive')"
      ],
      "metadata": {
        "colab": {
          "base_uri": "https://localhost:8080/"
        },
        "id": "DyyOvmEoCWCZ",
        "outputId": "dce8d029-d5aa-497a-e14f-c615f67d9274"
      },
      "execution_count": 35,
      "outputs": [
        {
          "output_type": "stream",
          "name": "stdout",
          "text": [
            "Mounted at /content/drive\n"
          ]
        }
      ]
    },
    {
      "cell_type": "code",
      "source": [
        "cardio_validate = pd.read_csv('/content/drive/MyDrive/cardiovascular.csv')"
      ],
      "metadata": {
        "id": "5hluHVj9CZs0"
      },
      "execution_count": 36,
      "outputs": []
    },
    {
      "cell_type": "markdown",
      "source": [
        "\n",
        "\n",
        "---\n",
        "\n",
        "\n",
        "**Random Forest**\n",
        "\n",
        "---\n",
        "\n"
      ],
      "metadata": {
        "id": "rcbBOHyV_emz"
      }
    },
    {
      "cell_type": "code",
      "source": [
        "from sklearn.ensemble import RandomForestClassifier\n",
        "from sklearn.model_selection import train_test_split\n",
        "\n",
        "cardio_data = pd.DataFrame(cardio ,columns=cardio.columns[:-1])\n",
        "cardio_label = cardio.label\n",
        "X_train, X_test, y_train, y_test = train_test_split(cardio_data, cardio_label, test_size = 0.30, random_state = 17) \n",
        "\n",
        "clf = RandomForestClassifier(max_depth=3, random_state=0)\n",
        "clf.fit(X_train, y_train)\n",
        "\n",
        "#Training Error in terms of points:\n",
        "from sklearn.metrics import accuracy_score\n",
        "print(\"{:.2f} % of the testing points classified correctly\".format(100*accuracy_score(clf.predict(X_test), y_test)))\n",
        "\n",
        "cardio_validate_data = pd.DataFrame(cardio_validate,columns = cardio_validate.columns[:-1])\n",
        "cardio_validate_label = cardio_validate.label\n",
        "print(\"accuracy of validation\",100*accuracy_score(clf.predict(cardio_validate_data),cardio_validate_label))"
      ],
      "metadata": {
        "colab": {
          "base_uri": "https://localhost:8080/"
        },
        "id": "3scEOXpo73ip",
        "outputId": "d54ac1d5-0b10-4de1-af0b-40d8f9315d99"
      },
      "execution_count": 48,
      "outputs": [
        {
          "output_type": "stream",
          "name": "stdout",
          "text": [
            "100.00 % of the testing points classified correctly\n",
            "accuracy of validation 100.0\n"
          ]
        }
      ]
    },
    {
      "cell_type": "markdown",
      "source": [
        "\n",
        "\n",
        "---\n",
        "\n",
        "**KNN**\n",
        "\n",
        "\n",
        "---\n",
        "\n"
      ],
      "metadata": {
        "id": "hO7DK-dl_reJ"
      }
    },
    {
      "cell_type": "code",
      "source": [
        "from sklearn.neighbors import KNeighborsClassifier\n",
        "neighbors = []\n",
        "scores_list = []\n",
        "  \n",
        "for k in range(1, 25):\n",
        "    neighbors.append(k)\n",
        "    knn = KNeighborsClassifier(n_neighbors = k)\n",
        "    knn.fit(X_train,y_train)\n",
        "    scores = knn.score(X_test,y_test)\n",
        "    scores_list.append(scores)"
      ],
      "metadata": {
        "id": "iLeZmz6g-DI8"
      },
      "execution_count": 49,
      "outputs": []
    },
    {
      "cell_type": "code",
      "source": [
        "Accuracy = [x*100 for x in scores_list]\n",
        "# plot Accuracy versus k\n",
        "plt.figure(figsize = (10, 6))\n",
        "plt.plot(neighbors, Accuracy)\n",
        "plt.xlim([0, 25])\n",
        "plt.xlabel('Number of neighbors')\n",
        "plt.ylabel('Accuracy in %')\n",
        "plt.show()"
      ],
      "metadata": {
        "colab": {
          "base_uri": "https://localhost:8080/",
          "height": 389
        },
        "id": "UmxWUiFT-ZPE",
        "outputId": "7f6240a1-1a27-4268-b03a-ae500c8cf1fb"
      },
      "execution_count": 50,
      "outputs": [
        {
          "output_type": "display_data",
          "data": {
            "text/plain": [
              "<Figure size 720x432 with 1 Axes>"
            ],
            "image/png": "[encoded data removed]"
          },
          "metadata": {
            "needs_background": "light"
          }
        }
      ]
    },
    {
      "cell_type": "code",
      "source": [
        "# determining the best k\n",
        "max_acc = max(Accuracy)\n",
        "optimal_ks = [neighbors[i] for i, j in enumerate(Accuracy) if j == max_acc]\n",
        "print(max_acc)\n",
        "print(optimal_ks)"
      ],
      "metadata": {
        "colab": {
          "base_uri": "https://localhost:8080/"
        },
        "id": "QMzwoXt_-rS2",
        "outputId": "b1728150-c683-4220-8f15-2d21f1fb1f6e"
      },
      "execution_count": 51,
      "outputs": [
        {
          "output_type": "stream",
          "name": "stdout",
          "text": [
            "96.83333333333334\n",
            "[1]\n"
          ]
        }
      ]
    },
    {
      "cell_type": "markdown",
      "source": [
        "\n",
        "\n",
        "---\n",
        "SVM\n",
        "\n",
        "\n",
        "---\n",
        "\n",
        "\n"
      ],
      "metadata": {
        "id": "mDxXDxHkCYaf"
      }
    },
    {
      "cell_type": "code",
      "source": [
        "from sklearn.svm import SVC\n",
        "# import metrics to compute accuracy\n",
        "from sklearn.metrics import accuracy_score\n",
        "\n",
        "\n",
        "# instantiate classifier with default hyperparameters\n",
        "svc=SVC() \n",
        "\n",
        "\n",
        "# fit classifier to training set\n",
        "svc.fit(X_train,y_train)\n",
        "\n",
        "\n",
        "# make predictions on test set\n",
        "y_pred=svc.predict(X_test)\n",
        "\n",
        "\n",
        "# compute and print accuracy score\n",
        "print('Model accuracy score with default hyperparameters: {0:0.4f}'. format(accuracy_score(y_test, y_pred)))"
      ],
      "metadata": {
        "colab": {
          "base_uri": "https://localhost:8080/"
        },
        "id": "gAY1W1nhBLPM",
        "outputId": "9824d9b6-4949-4457-a2e5-97cccc972020"
      },
      "execution_count": 52,
      "outputs": [
        {
          "output_type": "stream",
          "name": "stdout",
          "text": [
            "Model accuracy score with default hyperparameters: 0.7633\n"
          ]
        }
      ]
    },
    {
      "cell_type": "code",
      "source": [
        "# instantiate classifier with rbf kernel and C=100\n",
        "svc=SVC(C=100.0) \n",
        "\n",
        "\n",
        "# fit classifier to training set\n",
        "svc.fit(X_train,y_train)\n",
        "\n",
        "\n",
        "# make predictions on test set\n",
        "y_pred=svc.predict(X_test)\n",
        "\n",
        "\n",
        "# compute and print accuracy score\n",
        "print('Model accuracy score with rbf kernel and C=100.0 : {0:0.4f}'. format(accuracy_score(y_test, y_pred)))"
      ],
      "metadata": {
        "colab": {
          "base_uri": "https://localhost:8080/"
        },
        "id": "J1M5lJnPBSyi",
        "outputId": "15f6cb73-4d14-41a1-f7a6-225343004b4c"
      },
      "execution_count": 53,
      "outputs": [
        {
          "output_type": "stream",
          "name": "stdout",
          "text": [
            "Model accuracy score with rbf kernel and C=100.0 : 0.9987\n"
          ]
        }
      ]
    },
    {
      "cell_type": "code",
      "source": [
        "# instantiate classifier with rbf kernel and C=1000\n",
        "svc=SVC(C=1000.0) \n",
        "\n",
        "\n",
        "# fit classifier to training set\n",
        "svc.fit(X_train,y_train)\n",
        "\n",
        "\n",
        "# make predictions on test set\n",
        "y_pred=svc.predict(X_test)\n",
        "\n",
        "\n",
        "# compute and print accuracy score\n",
        "print('Model accuracy score with rbf kernel and C=1000.0 : {0:0.4f}'. format(accuracy_score(y_test, y_pred)))"
      ],
      "metadata": {
        "colab": {
          "base_uri": "https://localhost:8080/"
        },
        "id": "3E4NBTsiBYJu",
        "outputId": "8558e593-8275-492e-8e81-d5920ceaae81"
      },
      "execution_count": 54,
      "outputs": [
        {
          "output_type": "stream",
          "name": "stdout",
          "text": [
            "Model accuracy score with rbf kernel and C=1000.0 : 0.9997\n"
          ]
        }
      ]
    },
    {
      "cell_type": "code",
      "source": [
        "# instantiate classifier with linear kernel and C=1.0\n",
        "linear_svc=SVC(kernel='linear', C=1.0) \n",
        "\n",
        "\n",
        "# fit classifier to training set\n",
        "linear_svc.fit(X_train,y_train)\n",
        "\n",
        "\n",
        "# make predictions on test set\n",
        "y_pred_test=linear_svc.predict(X_test)\n",
        "\n",
        "\n",
        "# compute and print accuracy score\n",
        "print('Model accuracy score with linear kernel and C=1.0 : {0:0.4f}'. format(accuracy_score(y_test, y_pred_test)))"
      ],
      "metadata": {
        "colab": {
          "base_uri": "https://localhost:8080/"
        },
        "id": "BBuCs9IABbVw",
        "outputId": "59933f6c-15d8-4569-a691-12a329f44198"
      },
      "execution_count": 55,
      "outputs": [
        {
          "output_type": "stream",
          "name": "stdout",
          "text": [
            "Model accuracy score with linear kernel and C=1.0 : 1.0000\n"
          ]
        }
      ]
    },
    {
      "cell_type": "code",
      "source": [
        "# instantiate classifier with linear kernel and C=100.0\n",
        "linear_svc100=SVC(kernel='linear', C=100.0) \n",
        "\n",
        "\n",
        "# fit classifier to training set\n",
        "linear_svc100.fit(X_train, y_train)\n",
        "\n",
        "\n",
        "# make predictions on test set\n",
        "y_pred=linear_svc100.predict(X_test)\n",
        "\n",
        "\n",
        "# compute and print accuracy score\n",
        "print('Model accuracy score with linear kernel and C=100.0 : {0:0.4f}'. format(accuracy_score(y_test, y_pred)))"
      ],
      "metadata": {
        "colab": {
          "base_uri": "https://localhost:8080/"
        },
        "id": "b4YJ86P6BfRT",
        "outputId": "2afe64ef-c47e-4beb-e51d-cf02188de7ae"
      },
      "execution_count": 56,
      "outputs": [
        {
          "output_type": "stream",
          "name": "stdout",
          "text": [
            "Model accuracy score with linear kernel and C=100.0 : 1.0000\n"
          ]
        }
      ]
    },
    {
      "cell_type": "code",
      "source": [
        "# instantiate classifier with linear kernel and C=1000.0\n",
        "linear_svc1000=SVC(kernel='linear', C=1000.0) \n",
        "\n",
        "\n",
        "# fit classifier to training set\n",
        "linear_svc1000.fit(X_train, y_train)\n",
        "\n",
        "\n",
        "# make predictions on test set\n",
        "y_pred=linear_svc1000.predict(X_test)\n",
        "\n",
        "\n",
        "# compute and print accuracy score\n",
        "print('Model accuracy score with linear kernel and C=1000.0 : {0:0.4f}'. format(accuracy_score(y_test, y_pred)))"
      ],
      "metadata": {
        "colab": {
          "base_uri": "https://localhost:8080/"
        },
        "id": "yT-0pr0MBiaZ",
        "outputId": "20e0c262-3b34-4502-c2ec-7ac75645da64"
      },
      "execution_count": 57,
      "outputs": [
        {
          "output_type": "stream",
          "name": "stdout",
          "text": [
            "Model accuracy score with linear kernel and C=1000.0 : 1.0000\n"
          ]
        }
      ]
    },
    {
      "cell_type": "code",
      "source": [
        "# instantiate classifier with polynomial kernel and C=1.0\n",
        "poly_svc=SVC(kernel='poly', C=1.0) \n",
        "\n",
        "\n",
        "# fit classifier to training set\n",
        "poly_svc.fit(X_train,y_train)\n",
        "\n",
        "\n",
        "# make predictions on test set\n",
        "y_pred=poly_svc.predict(X_test)\n",
        "\n",
        "\n",
        "# compute and print accuracy score\n",
        "print('Model accuracy score with polynomial kernel and C=1.0 : {0:0.4f}'. format(accuracy_score(y_test, y_pred)))"
      ],
      "metadata": {
        "colab": {
          "base_uri": "https://localhost:8080/"
        },
        "id": "sbUJzKhMBpBv",
        "outputId": "b4668131-beff-448e-d89a-832b30ec8c68"
      },
      "execution_count": 58,
      "outputs": [
        {
          "output_type": "stream",
          "name": "stdout",
          "text": [
            "Model accuracy score with polynomial kernel and C=1.0 : 0.7633\n"
          ]
        }
      ]
    },
    {
      "cell_type": "code",
      "source": [
        "# instantiate classifier with polynomial kernel and C=100.0\n",
        "poly_svc100=SVC(kernel='poly', C=100.0) \n",
        "\n",
        "\n",
        "# fit classifier to training set\n",
        "poly_svc100.fit(X_train, y_train)\n",
        "\n",
        "\n",
        "# make predictions on test set\n",
        "y_pred=poly_svc100.predict(X_test)\n",
        "\n",
        "\n",
        "# compute and print accuracy score\n",
        "print('Model accuracy score with polynomial kernel and C=1.0 : {0:0.4f}'. format(accuracy_score(y_test, y_pred)))"
      ],
      "metadata": {
        "colab": {
          "base_uri": "https://localhost:8080/"
        },
        "id": "57yuj1uQBr3t",
        "outputId": "321a8d36-b2e0-4e54-9434-156340d28f3c"
      },
      "execution_count": 59,
      "outputs": [
        {
          "output_type": "stream",
          "name": "stdout",
          "text": [
            "Model accuracy score with polynomial kernel and C=1.0 : 0.9123\n"
          ]
        }
      ]
    },
    {
      "cell_type": "code",
      "source": [
        "# instantiate classifier with sigmoid kernel and C=1.0\n",
        "sigmoid_svc=SVC(kernel='sigmoid', C=1.0) \n",
        "\n",
        "\n",
        "# fit classifier to training set\n",
        "sigmoid_svc.fit(X_train,y_train)\n",
        "\n",
        "\n",
        "# make predictions on test set\n",
        "y_pred=sigmoid_svc.predict(X_test)\n",
        "\n",
        "\n",
        "# compute and print accuracy score\n",
        "print('Model accuracy score with sigmoid kernel and C=1.0 : {0:0.4f}'. format(accuracy_score(y_test, y_pred)))"
      ],
      "metadata": {
        "colab": {
          "base_uri": "https://localhost:8080/"
        },
        "id": "oa1aCTVoBucE",
        "outputId": "904a7863-f931-4e67-95ac-dbdff050c407"
      },
      "execution_count": 60,
      "outputs": [
        {
          "output_type": "stream",
          "name": "stdout",
          "text": [
            "Model accuracy score with sigmoid kernel and C=1.0 : 0.6280\n"
          ]
        }
      ]
    },
    {
      "cell_type": "code",
      "source": [
        "# instantiate classifier with sigmoid kernel and C=100.0\n",
        "sigmoid_svc100=SVC(kernel='sigmoid', C=100.0) \n",
        "\n",
        "\n",
        "# fit classifier to training set\n",
        "sigmoid_svc100.fit(X_train,y_train)\n",
        "\n",
        "\n",
        "# make predictions on test set\n",
        "y_pred=sigmoid_svc100.predict(X_test)\n",
        "\n",
        "\n",
        "# compute and print accuracy score\n",
        "print('Model accuracy score with sigmoid kernel and C=100.0 : {0:0.4f}'. format(accuracy_score(y_test, y_pred)))"
      ],
      "metadata": {
        "colab": {
          "base_uri": "https://localhost:8080/"
        },
        "id": "D5-nR43bBxD4",
        "outputId": "b1b52c89-449c-4cf0-af67-0ec2997579d6"
      },
      "execution_count": 61,
      "outputs": [
        {
          "output_type": "stream",
          "name": "stdout",
          "text": [
            "Model accuracy score with sigmoid kernel and C=100.0 : 0.6247\n"
          ]
        }
      ]
    }
  ]
}